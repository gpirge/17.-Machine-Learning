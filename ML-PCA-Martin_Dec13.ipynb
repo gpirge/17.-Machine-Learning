{
 "cells": [
  {
   "cell_type": "code",
   "execution_count": 1,
   "metadata": {},
   "outputs": [],
   "source": [
    "import numpy as np\n",
    "import pandas as pd\n",
    "import seaborn as sns\n",
    "import matplotlib.pyplot as plt\n",
    "from sklearn.cluster import KMeans\n",
    "import warnings\n",
    "warnings.filterwarnings(\"ignore\", category=DeprecationWarning)\n",
    "warnings.filterwarnings(\"ignore\", category=FutureWarning)"
   ]
  },
  {
   "cell_type": "code",
   "execution_count": 4,
   "metadata": {},
   "outputs": [],
   "source": [
    "df = pd.read_csv('Hitters.csv')"
   ]
  },
  {
   "cell_type": "code",
   "execution_count": 5,
   "metadata": {},
   "outputs": [
    {
     "data": {
      "text/html": [
       "<div>\n",
       "<style scoped>\n",
       "    .dataframe tbody tr th:only-of-type {\n",
       "        vertical-align: middle;\n",
       "    }\n",
       "\n",
       "    .dataframe tbody tr th {\n",
       "        vertical-align: top;\n",
       "    }\n",
       "\n",
       "    .dataframe thead th {\n",
       "        text-align: right;\n",
       "    }\n",
       "</style>\n",
       "<table border=\"1\" class=\"dataframe\">\n",
       "  <thead>\n",
       "    <tr style=\"text-align: right;\">\n",
       "      <th></th>\n",
       "      <th>AtBat</th>\n",
       "      <th>Hits</th>\n",
       "      <th>HmRun</th>\n",
       "      <th>Runs</th>\n",
       "      <th>RBI</th>\n",
       "      <th>Walks</th>\n",
       "      <th>Years</th>\n",
       "      <th>CAtBat</th>\n",
       "      <th>CHits</th>\n",
       "      <th>CHmRun</th>\n",
       "      <th>CRuns</th>\n",
       "      <th>CRBI</th>\n",
       "      <th>CWalks</th>\n",
       "      <th>League</th>\n",
       "      <th>Division</th>\n",
       "      <th>PutOuts</th>\n",
       "      <th>Assists</th>\n",
       "      <th>Errors</th>\n",
       "      <th>Salary</th>\n",
       "      <th>NewLeague</th>\n",
       "    </tr>\n",
       "  </thead>\n",
       "  <tbody>\n",
       "    <tr>\n",
       "      <th>0</th>\n",
       "      <td>293</td>\n",
       "      <td>66</td>\n",
       "      <td>1</td>\n",
       "      <td>30</td>\n",
       "      <td>29</td>\n",
       "      <td>14</td>\n",
       "      <td>1</td>\n",
       "      <td>293</td>\n",
       "      <td>66</td>\n",
       "      <td>1</td>\n",
       "      <td>30</td>\n",
       "      <td>29</td>\n",
       "      <td>14</td>\n",
       "      <td>A</td>\n",
       "      <td>E</td>\n",
       "      <td>446</td>\n",
       "      <td>33</td>\n",
       "      <td>20</td>\n",
       "      <td>NaN</td>\n",
       "      <td>A</td>\n",
       "    </tr>\n",
       "    <tr>\n",
       "      <th>1</th>\n",
       "      <td>315</td>\n",
       "      <td>81</td>\n",
       "      <td>7</td>\n",
       "      <td>24</td>\n",
       "      <td>38</td>\n",
       "      <td>39</td>\n",
       "      <td>14</td>\n",
       "      <td>3449</td>\n",
       "      <td>835</td>\n",
       "      <td>69</td>\n",
       "      <td>321</td>\n",
       "      <td>414</td>\n",
       "      <td>375</td>\n",
       "      <td>N</td>\n",
       "      <td>W</td>\n",
       "      <td>632</td>\n",
       "      <td>43</td>\n",
       "      <td>10</td>\n",
       "      <td>475.0</td>\n",
       "      <td>N</td>\n",
       "    </tr>\n",
       "    <tr>\n",
       "      <th>2</th>\n",
       "      <td>479</td>\n",
       "      <td>130</td>\n",
       "      <td>18</td>\n",
       "      <td>66</td>\n",
       "      <td>72</td>\n",
       "      <td>76</td>\n",
       "      <td>3</td>\n",
       "      <td>1624</td>\n",
       "      <td>457</td>\n",
       "      <td>63</td>\n",
       "      <td>224</td>\n",
       "      <td>266</td>\n",
       "      <td>263</td>\n",
       "      <td>A</td>\n",
       "      <td>W</td>\n",
       "      <td>880</td>\n",
       "      <td>82</td>\n",
       "      <td>14</td>\n",
       "      <td>480.0</td>\n",
       "      <td>A</td>\n",
       "    </tr>\n",
       "  </tbody>\n",
       "</table>\n",
       "</div>"
      ],
      "text/plain": [
       "   AtBat  Hits  HmRun  Runs  RBI  Walks  Years  CAtBat  CHits  CHmRun  CRuns  \\\n",
       "0    293    66      1    30   29     14      1     293     66       1     30   \n",
       "1    315    81      7    24   38     39     14    3449    835      69    321   \n",
       "2    479   130     18    66   72     76      3    1624    457      63    224   \n",
       "\n",
       "   CRBI  CWalks League Division  PutOuts  Assists  Errors  Salary NewLeague  \n",
       "0    29      14      A        E      446       33      20     NaN         A  \n",
       "1   414     375      N        W      632       43      10   475.0         N  \n",
       "2   266     263      A        W      880       82      14   480.0         A  "
      ]
     },
     "execution_count": 5,
     "metadata": {},
     "output_type": "execute_result"
    }
   ],
   "source": [
    "df.head(3)"
   ]
  },
  {
   "cell_type": "code",
   "execution_count": 6,
   "metadata": {},
   "outputs": [
    {
     "data": {
      "text/plain": [
       "(322, 20)"
      ]
     },
     "execution_count": 6,
     "metadata": {},
     "output_type": "execute_result"
    }
   ],
   "source": [
    "df.shape"
   ]
  },
  {
   "cell_type": "code",
   "execution_count": 7,
   "metadata": {},
   "outputs": [
    {
     "name": "stdout",
     "output_type": "stream",
     "text": [
      "<class 'pandas.core.frame.DataFrame'>\n",
      "RangeIndex: 322 entries, 0 to 321\n",
      "Data columns (total 20 columns):\n",
      " #   Column     Non-Null Count  Dtype  \n",
      "---  ------     --------------  -----  \n",
      " 0   AtBat      322 non-null    int64  \n",
      " 1   Hits       322 non-null    int64  \n",
      " 2   HmRun      322 non-null    int64  \n",
      " 3   Runs       322 non-null    int64  \n",
      " 4   RBI        322 non-null    int64  \n",
      " 5   Walks      322 non-null    int64  \n",
      " 6   Years      322 non-null    int64  \n",
      " 7   CAtBat     322 non-null    int64  \n",
      " 8   CHits      322 non-null    int64  \n",
      " 9   CHmRun     322 non-null    int64  \n",
      " 10  CRuns      322 non-null    int64  \n",
      " 11  CRBI       322 non-null    int64  \n",
      " 12  CWalks     322 non-null    int64  \n",
      " 13  League     322 non-null    object \n",
      " 14  Division   322 non-null    object \n",
      " 15  PutOuts    322 non-null    int64  \n",
      " 16  Assists    322 non-null    int64  \n",
      " 17  Errors     322 non-null    int64  \n",
      " 18  Salary     263 non-null    float64\n",
      " 19  NewLeague  322 non-null    object \n",
      "dtypes: float64(1), int64(16), object(3)\n",
      "memory usage: 50.4+ KB\n"
     ]
    }
   ],
   "source": [
    "df.info()"
   ]
  },
  {
   "cell_type": "code",
   "execution_count": 8,
   "metadata": {},
   "outputs": [],
   "source": [
    "df.dropna(inplace=True)"
   ]
  },
  {
   "cell_type": "code",
   "execution_count": 9,
   "metadata": {},
   "outputs": [
    {
     "data": {
      "text/plain": [
       "(263, 20)"
      ]
     },
     "execution_count": 9,
     "metadata": {},
     "output_type": "execute_result"
    }
   ],
   "source": [
    "df.shape"
   ]
  },
  {
   "cell_type": "code",
   "execution_count": 13,
   "metadata": {},
   "outputs": [
    {
     "data": {
      "text/html": [
       "<div>\n",
       "<style scoped>\n",
       "    .dataframe tbody tr th:only-of-type {\n",
       "        vertical-align: middle;\n",
       "    }\n",
       "\n",
       "    .dataframe tbody tr th {\n",
       "        vertical-align: top;\n",
       "    }\n",
       "\n",
       "    .dataframe thead th {\n",
       "        text-align: right;\n",
       "    }\n",
       "</style>\n",
       "<table border=\"1\" class=\"dataframe\">\n",
       "  <thead>\n",
       "    <tr style=\"text-align: right;\">\n",
       "      <th></th>\n",
       "      <th>AtBat</th>\n",
       "      <th>Hits</th>\n",
       "      <th>HmRun</th>\n",
       "      <th>Runs</th>\n",
       "      <th>RBI</th>\n",
       "      <th>Walks</th>\n",
       "      <th>Years</th>\n",
       "      <th>CAtBat</th>\n",
       "      <th>CHits</th>\n",
       "      <th>CHmRun</th>\n",
       "      <th>CRuns</th>\n",
       "      <th>CRBI</th>\n",
       "      <th>CWalks</th>\n",
       "      <th>PutOuts</th>\n",
       "      <th>Assists</th>\n",
       "      <th>Errors</th>\n",
       "      <th>Salary</th>\n",
       "    </tr>\n",
       "  </thead>\n",
       "  <tbody>\n",
       "    <tr>\n",
       "      <th>1</th>\n",
       "      <td>315</td>\n",
       "      <td>81</td>\n",
       "      <td>7</td>\n",
       "      <td>24</td>\n",
       "      <td>38</td>\n",
       "      <td>39</td>\n",
       "      <td>14</td>\n",
       "      <td>3449</td>\n",
       "      <td>835</td>\n",
       "      <td>69</td>\n",
       "      <td>321</td>\n",
       "      <td>414</td>\n",
       "      <td>375</td>\n",
       "      <td>632</td>\n",
       "      <td>43</td>\n",
       "      <td>10</td>\n",
       "      <td>475.0</td>\n",
       "    </tr>\n",
       "    <tr>\n",
       "      <th>2</th>\n",
       "      <td>479</td>\n",
       "      <td>130</td>\n",
       "      <td>18</td>\n",
       "      <td>66</td>\n",
       "      <td>72</td>\n",
       "      <td>76</td>\n",
       "      <td>3</td>\n",
       "      <td>1624</td>\n",
       "      <td>457</td>\n",
       "      <td>63</td>\n",
       "      <td>224</td>\n",
       "      <td>266</td>\n",
       "      <td>263</td>\n",
       "      <td>880</td>\n",
       "      <td>82</td>\n",
       "      <td>14</td>\n",
       "      <td>480.0</td>\n",
       "    </tr>\n",
       "    <tr>\n",
       "      <th>3</th>\n",
       "      <td>496</td>\n",
       "      <td>141</td>\n",
       "      <td>20</td>\n",
       "      <td>65</td>\n",
       "      <td>78</td>\n",
       "      <td>37</td>\n",
       "      <td>11</td>\n",
       "      <td>5628</td>\n",
       "      <td>1575</td>\n",
       "      <td>225</td>\n",
       "      <td>828</td>\n",
       "      <td>838</td>\n",
       "      <td>354</td>\n",
       "      <td>200</td>\n",
       "      <td>11</td>\n",
       "      <td>3</td>\n",
       "      <td>500.0</td>\n",
       "    </tr>\n",
       "    <tr>\n",
       "      <th>4</th>\n",
       "      <td>321</td>\n",
       "      <td>87</td>\n",
       "      <td>10</td>\n",
       "      <td>39</td>\n",
       "      <td>42</td>\n",
       "      <td>30</td>\n",
       "      <td>2</td>\n",
       "      <td>396</td>\n",
       "      <td>101</td>\n",
       "      <td>12</td>\n",
       "      <td>48</td>\n",
       "      <td>46</td>\n",
       "      <td>33</td>\n",
       "      <td>805</td>\n",
       "      <td>40</td>\n",
       "      <td>4</td>\n",
       "      <td>91.5</td>\n",
       "    </tr>\n",
       "    <tr>\n",
       "      <th>5</th>\n",
       "      <td>594</td>\n",
       "      <td>169</td>\n",
       "      <td>4</td>\n",
       "      <td>74</td>\n",
       "      <td>51</td>\n",
       "      <td>35</td>\n",
       "      <td>11</td>\n",
       "      <td>4408</td>\n",
       "      <td>1133</td>\n",
       "      <td>19</td>\n",
       "      <td>501</td>\n",
       "      <td>336</td>\n",
       "      <td>194</td>\n",
       "      <td>282</td>\n",
       "      <td>421</td>\n",
       "      <td>25</td>\n",
       "      <td>750.0</td>\n",
       "    </tr>\n",
       "  </tbody>\n",
       "</table>\n",
       "</div>"
      ],
      "text/plain": [
       "   AtBat  Hits  HmRun  Runs  RBI  Walks  Years  CAtBat  CHits  CHmRun  CRuns  \\\n",
       "1    315    81      7    24   38     39     14    3449    835      69    321   \n",
       "2    479   130     18    66   72     76      3    1624    457      63    224   \n",
       "3    496   141     20    65   78     37     11    5628   1575     225    828   \n",
       "4    321    87     10    39   42     30      2     396    101      12     48   \n",
       "5    594   169      4    74   51     35     11    4408   1133      19    501   \n",
       "\n",
       "   CRBI  CWalks  PutOuts  Assists  Errors  Salary  \n",
       "1   414     375      632       43      10   475.0  \n",
       "2   266     263      880       82      14   480.0  \n",
       "3   838     354      200       11       3   500.0  \n",
       "4    46      33      805       40       4    91.5  \n",
       "5   336     194      282      421      25   750.0  "
      ]
     },
     "execution_count": 13,
     "metadata": {},
     "output_type": "execute_result"
    }
   ],
   "source": [
    "df = df._get_numeric_data()  # sadece numeric sutunlari almamizi sagladi - digerlerini get_dummies yapmadan\n",
    "df.head() #  League - Division - NewLeague gitti"
   ]
  },
  {
   "cell_type": "code",
   "execution_count": 12,
   "metadata": {},
   "outputs": [
    {
     "data": {
      "text/plain": [
       "(263, 17)"
      ]
     },
     "execution_count": 12,
     "metadata": {},
     "output_type": "execute_result"
    }
   ],
   "source": [
    "df.shape"
   ]
  },
  {
   "cell_type": "code",
   "execution_count": 14,
   "metadata": {},
   "outputs": [],
   "source": [
    "from sklearn.preprocessing import StandardScaler"
   ]
  },
  {
   "cell_type": "code",
   "execution_count": 15,
   "metadata": {},
   "outputs": [],
   "source": [
    "df = StandardScaler().fit_transform(df)"
   ]
  },
  {
   "cell_type": "code",
   "execution_count": 18,
   "metadata": {},
   "outputs": [
    {
     "data": {
      "text/plain": [
       "array([[-0.6029005 , -0.59567545, -0.5285512 , -1.2061115 , -0.52206292],\n",
       "       [ 0.51254171,  0.49225957,  0.72996619,  0.44151497,  0.79405962],\n",
       "       [ 0.62816682,  0.73648988,  0.95878753,  0.40228577,  1.02631654],\n",
       "       [-0.56209164, -0.46245892, -0.18531919, -0.61767348, -0.36722498],\n",
       "       [ 1.29471156,  1.35816704, -0.87178322,  0.75534858, -0.0188396 ]])"
      ]
     },
     "execution_count": 18,
     "metadata": {},
     "output_type": "execute_result"
    }
   ],
   "source": [
    "df[0:5, 0:5]"
   ]
  },
  {
   "cell_type": "code",
   "execution_count": 19,
   "metadata": {},
   "outputs": [],
   "source": [
    "# once scale ettik"
   ]
  },
  {
   "cell_type": "markdown",
   "metadata": {},
   "source": [
    "PCA"
   ]
  },
  {
   "cell_type": "code",
   "execution_count": 26,
   "metadata": {},
   "outputs": [],
   "source": [
    "from sklearn.decomposition import PCA"
   ]
  },
  {
   "cell_type": "code",
   "execution_count": 27,
   "metadata": {},
   "outputs": [],
   "source": [
    "pca = PCA(n_components = 2)  # parameter secimi\n",
    "pca_fit = pca.fit_transform(df)"
   ]
  },
  {
   "cell_type": "code",
   "execution_count": 28,
   "metadata": {},
   "outputs": [
    {
     "data": {
      "text/plain": [
       "array([[ 7.68482432e-02,  1.65352465e+00],\n",
       "       [ 3.37126792e-01, -2.32055981e+00],\n",
       "       [ 3.40836188e+00,  7.55756506e-01],\n",
       "       [-2.64222127e+00, -3.61486414e-01],\n",
       "       [ 1.07168072e+00, -1.51167360e+00],\n",
       "       [-4.14334694e+00,  1.52761501e+00],\n",
       "       [-3.66187880e+00,  7.26482752e-01],\n",
       "       [-3.46358326e+00, -1.11932250e-01],\n",
       "       [ 3.95881864e+00,  2.16536132e+00],\n",
       "       [ 2.97619746e+00, -2.18509076e+00],\n",
       "       [-2.00435156e+00,  1.62310751e+00],\n",
       "       [-8.22584224e-01, -5.87547914e-01],\n",
       "       [-2.24564747e+00,  1.81903669e+00],\n",
       "       [-1.12980749e+00,  2.57831292e+00],\n",
       "       [ 5.74490571e+00,  2.22535369e-01],\n",
       "       [-3.74756191e+00,  1.33933904e+00],\n",
       "       [-3.28875794e+00,  2.29328755e+00],\n",
       "       [-1.85723415e+00, -1.43268195e+00],\n",
       "       [-2.29170256e+00, -9.25891185e-01],\n",
       "       [ 2.54702025e-01, -1.12943118e+00],\n",
       "       [ 5.83585565e+00, -2.23890882e-01],\n",
       "       [ 7.95632970e-01, -1.52534619e+00],\n",
       "       [-1.83824827e+00,  1.52283175e+00],\n",
       "       [ 1.76955312e-01, -7.30263388e-01],\n",
       "       [ 3.59174945e-01, -2.18645618e+00],\n",
       "       [ 4.62358915e+00, -2.61453918e-01],\n",
       "       [-2.55914761e+00, -2.95327224e-01],\n",
       "       [ 2.95353982e-01, -3.23634298e+00],\n",
       "       [-2.72287697e+00,  1.71469469e+00],\n",
       "       [ 2.94957990e+00,  1.81895957e+00],\n",
       "       [-3.55324805e+00,  7.94054931e-01],\n",
       "       [-3.83653130e+00,  1.40518744e+00],\n",
       "       [-3.25288407e+00,  1.55191980e+00],\n",
       "       [-2.66787906e+00,  1.33095235e+00],\n",
       "       [-1.86266954e+00, -1.20797394e+00],\n",
       "       [-2.94169906e+00,  1.46449596e+00],\n",
       "       [ 1.19823481e+00, -1.55566743e+00],\n",
       "       [ 4.25344494e+00,  2.73245584e+00],\n",
       "       [-3.69965146e+00,  1.19237910e+00],\n",
       "       [ 2.71542187e+00, -8.14969098e-01],\n",
       "       [ 2.34525373e+00,  1.83961494e+00],\n",
       "       [-1.32157759e+00, -6.31257153e-01],\n",
       "       [-2.20113602e+00,  1.44693323e+00],\n",
       "       [-6.94976011e-01,  1.79520595e+00],\n",
       "       [ 2.91637229e+00, -3.12101771e+00],\n",
       "       [-2.01043415e+00, -1.55056975e+00],\n",
       "       [ 1.17729878e+00,  4.71526314e+00],\n",
       "       [-3.38755420e+00,  1.25386895e+00],\n",
       "       [-3.23909444e+00,  1.30668996e+00],\n",
       "       [ 6.79192188e+00,  9.47138550e-01],\n",
       "       [-3.53034543e+00,  1.32352340e+00],\n",
       "       [-9.57301219e-01, -2.86564003e+00],\n",
       "       [ 2.82671354e+00,  3.67835272e+00],\n",
       "       [ 4.13380328e+00, -1.68157256e-01],\n",
       "       [ 7.61532644e+00,  1.35747932e+00],\n",
       "       [ 6.55875091e+00,  3.59112609e-01],\n",
       "       [-4.24700366e-02,  2.88184154e-01],\n",
       "       [-2.02435763e+00,  2.95120437e-01],\n",
       "       [-5.43334784e-01,  1.03347927e-01],\n",
       "       [-2.56116371e+00,  2.62210814e-01],\n",
       "       [ 2.56024141e+00,  3.40908600e+00],\n",
       "       [ 3.47842738e+00, -4.95483204e+00],\n",
       "       [ 5.50518577e+00, -9.68779533e-01],\n",
       "       [ 1.26935639e+00,  1.76466286e+00],\n",
       "       [ 6.20786014e+00, -7.38382230e-01],\n",
       "       [-2.40832527e+00, -1.02193399e-01],\n",
       "       [ 1.74748752e+00,  4.65427732e+00],\n",
       "       [-1.02115035e+00, -1.95377808e+00],\n",
       "       [-1.79004973e+00,  3.53963038e-01],\n",
       "       [ 1.35941701e+00, -1.97928971e+00],\n",
       "       [-3.20532766e+00, -5.20653993e-01],\n",
       "       [-6.16994460e-01, -2.71567466e+00],\n",
       "       [-1.08981101e-01,  3.44000663e-02],\n",
       "       [ 7.37342258e+00,  3.16694060e-01],\n",
       "       [-4.71475712e-01, -2.35005532e+00],\n",
       "       [-3.66935304e-01, -2.20105937e-01],\n",
       "       [ 5.95506662e+00, -3.94375500e-01],\n",
       "       [-2.57620754e+00,  1.43211380e+00],\n",
       "       [ 3.56087130e+00, -8.33466609e-01],\n",
       "       [ 1.92312860e+00, -3.54372993e+00],\n",
       "       [-4.06376479e+00,  1.20550740e+00],\n",
       "       [ 5.47610195e+00,  7.95126886e-01],\n",
       "       [-1.09574946e+00,  1.80292454e-01],\n",
       "       [ 5.95016120e+00, -2.23953372e-01],\n",
       "       [ 5.62230288e-01, -4.15025726e+00],\n",
       "       [ 2.18622723e+00, -3.52738549e+00],\n",
       "       [-1.79632754e+00, -2.11218403e+00],\n",
       "       [ 3.56363065e+00,  3.58920759e+00],\n",
       "       [ 3.02338840e-01,  2.47896000e-03],\n",
       "       [-1.78161452e+00,  8.38873639e-01],\n",
       "       [ 4.64131430e+00,  2.71606240e+00],\n",
       "       [ 5.68704390e+00,  4.06081931e+00],\n",
       "       [-3.24956140e-01, -1.92257915e+00],\n",
       "       [-1.24069845e+00,  2.48612420e-01],\n",
       "       [ 1.33237647e+00,  4.76365056e-01],\n",
       "       [-1.15317120e+00,  4.13801236e-01],\n",
       "       [ 2.16012407e-01,  9.00521700e-01],\n",
       "       [ 5.15825550e-01, -1.72891941e+00],\n",
       "       [ 2.32907022e+00, -1.15899949e+00],\n",
       "       [-2.27299569e-01,  9.25909995e-02],\n",
       "       [-2.32604674e+00,  6.45592435e-01],\n",
       "       [ 2.92300703e+00,  4.85614747e+00],\n",
       "       [-2.76621038e+00, -8.19606290e-01],\n",
       "       [-3.17126836e+00,  2.25378750e+00],\n",
       "       [-3.79803008e+00,  1.88002619e+00],\n",
       "       [ 2.82195684e+00, -3.34245879e+00],\n",
       "       [ 7.78545664e-01,  1.56507545e+00],\n",
       "       [-2.23598086e+00, -1.08346780e+00],\n",
       "       [ 8.70251436e-02, -3.93052613e+00],\n",
       "       [ 8.54102957e-01, -3.82829406e+00],\n",
       "       [ 2.00186687e+00,  2.97236440e+00],\n",
       "       [ 4.81615060e+00,  2.28045594e+00],\n",
       "       [ 1.09439036e+00, -1.59124473e+00],\n",
       "       [-1.47258050e+00,  3.11471603e+00],\n",
       "       [ 4.90833647e-01, -2.55781761e+00],\n",
       "       [ 6.23827484e-01, -3.72710582e-02],\n",
       "       [ 7.21030716e-01,  2.97305769e+00],\n",
       "       [-3.86986547e+00,  1.65518192e+00],\n",
       "       [-3.09438546e+00,  3.20736066e-01],\n",
       "       [-5.27547160e-01,  1.49396383e+00],\n",
       "       [ 9.32735118e-01, -1.78710600e+00],\n",
       "       [-2.43910405e+00, -5.05312822e-02],\n",
       "       [ 7.17255921e-01,  2.59163892e+00],\n",
       "       [ 1.52351002e-01, -3.43045501e+00],\n",
       "       [ 8.56654694e-01, -1.98362325e+00],\n",
       "       [-4.13126818e+00,  1.91214289e+00],\n",
       "       [ 7.75851025e+00, -5.04222090e-01],\n",
       "       [-4.05823860e-01,  2.25196146e+00],\n",
       "       [-2.35797645e+00, -3.86908525e-01],\n",
       "       [ 1.82583825e-01, -3.14733625e+00],\n",
       "       [-1.68067793e+00,  4.80528293e-02],\n",
       "       [-3.19835612e+00,  8.43840200e-01],\n",
       "       [ 2.24542293e+00,  1.50411193e+00],\n",
       "       [-2.00867160e+00, -1.43742194e+00],\n",
       "       [-9.46744360e-01,  3.27459261e+00],\n",
       "       [ 2.62296920e-01, -2.45137873e+00],\n",
       "       [-3.72268310e+00,  1.11355355e+00],\n",
       "       [ 2.14039441e+00, -1.15680890e+00],\n",
       "       [ 3.82638832e+00,  1.19383165e+00],\n",
       "       [ 6.08019993e+00, -9.22824354e-01],\n",
       "       [ 2.75611953e+00, -2.87573961e+00],\n",
       "       [-9.61169390e-02,  2.37042079e+00],\n",
       "       [ 9.44792032e-01, -2.94104570e+00],\n",
       "       [-2.63210834e+00, -4.61614991e-01],\n",
       "       [ 1.68835900e+00, -1.04436207e+00],\n",
       "       [ 9.61782015e-01, -5.43143716e-01],\n",
       "       [-4.49111169e-01, -8.03931394e-01],\n",
       "       [ 1.09695708e+00, -4.08836194e+00],\n",
       "       [-3.62731085e+00,  2.20514744e-01],\n",
       "       [ 2.07661276e+00, -1.40316016e+00],\n",
       "       [-1.65804798e+00, -1.33235604e+00],\n",
       "       [ 2.23414523e-01,  2.66417375e+00],\n",
       "       [ 1.74096123e+00,  6.49829901e-01],\n",
       "       [-2.76369027e+00,  1.46240977e+00],\n",
       "       [ 2.31832842e+00, -1.69735924e+00],\n",
       "       [ 2.07490002e+00,  1.09187685e+00],\n",
       "       [ 3.88415711e+00,  6.97973026e-01],\n",
       "       [-2.17240656e+00,  3.09735396e-02],\n",
       "       [ 3.02673259e+00, -1.53769903e+00],\n",
       "       [-3.65497832e+00,  1.01037922e+00],\n",
       "       [ 2.98852758e-02, -3.11085585e+00],\n",
       "       [ 1.82475099e-01, -1.10415662e+00],\n",
       "       [-3.44323548e+00,  9.47539077e-01],\n",
       "       [-2.47416770e+00, -1.03352752e+00],\n",
       "       [ 1.75561375e+00,  9.96681808e-02],\n",
       "       [-3.80862080e-01, -1.20927600e+00],\n",
       "       [-9.11166927e-01,  1.52109324e+00],\n",
       "       [-4.05957677e+00,  1.46544465e+00],\n",
       "       [-3.22058331e+00,  5.33261473e-01],\n",
       "       [-6.84230636e-01,  4.67931146e-01],\n",
       "       [-5.84301662e-01, -2.62606419e+00],\n",
       "       [-3.06834972e+00,  7.56937904e-01],\n",
       "       [-3.93223647e+00,  2.56137210e+00],\n",
       "       [-7.56618183e-01, -7.60598416e-02],\n",
       "       [-2.98452756e+00,  6.69164685e-01],\n",
       "       [-3.05716071e+00,  7.33751475e-01],\n",
       "       [-9.44128286e-01, -2.28341188e+00],\n",
       "       [-1.70510908e-01,  3.80798906e-01],\n",
       "       [-2.35061124e+00,  1.09284352e+00],\n",
       "       [-1.44934139e+00,  1.71399350e-01],\n",
       "       [-2.16940421e+00, -1.94034493e+00],\n",
       "       [-5.41489484e-01, -2.59624060e+00],\n",
       "       [ 2.24746844e+00, -9.94004617e-01],\n",
       "       [-6.02022853e-01, -6.10836158e-01],\n",
       "       [ 1.36710232e-01, -1.89320794e+00],\n",
       "       [ 1.76220165e+00,  2.15590092e+00],\n",
       "       [-7.24597347e-01, -3.16620111e+00],\n",
       "       [ 1.53213812e+00,  1.39244115e-01],\n",
       "       [ 7.76216662e+00,  7.78916530e+00],\n",
       "       [-2.65779624e+00,  1.45930634e+00],\n",
       "       [-4.31129714e-01, -1.04856947e+00],\n",
       "       [-3.23666984e+00,  3.06580103e-01],\n",
       "       [ 3.61173759e-01,  2.69488643e+00],\n",
       "       [-1.55713374e+00,  2.46148692e-01],\n",
       "       [-1.60198330e+00,  2.60302569e+00],\n",
       "       [ 4.51225911e+00,  3.99260829e+00],\n",
       "       [-4.32887521e-01, -2.56769321e+00],\n",
       "       [ 8.24654234e-01,  1.85467296e+00],\n",
       "       [-3.36842064e-01,  5.97298578e-01],\n",
       "       [ 4.46161981e+00, -2.28430844e+00],\n",
       "       [ 8.76426747e+00,  4.40371867e+00],\n",
       "       [-6.72220253e-01,  4.12990554e-01],\n",
       "       [ 1.16732655e+00, -3.96932093e-01],\n",
       "       [-2.73365608e+00,  1.29999072e+00],\n",
       "       [ 1.61230524e-01,  3.41583788e+00],\n",
       "       [-5.19762411e-01,  5.81704082e-01],\n",
       "       [ 5.23853457e-01, -1.09945286e+00],\n",
       "       [-3.61110693e+00,  2.58547071e-01],\n",
       "       [-2.39481156e-01, -8.16683549e-01],\n",
       "       [-4.26546682e+00,  2.19449950e+00],\n",
       "       [-2.01985035e+00,  6.31185177e-01],\n",
       "       [ 1.36992130e+00, -2.05759188e+00],\n",
       "       [-2.54457342e+00, -3.64881604e-01],\n",
       "       [-3.25506252e+00,  9.18521431e-01],\n",
       "       [-2.46608988e+00, -7.52067807e-01],\n",
       "       [ 3.17596112e+00,  1.27984477e+00],\n",
       "       [-1.85778332e+00, -2.70043087e+00],\n",
       "       [-1.49600561e+00,  1.80812228e+00],\n",
       "       [ 4.36958598e+00,  1.06386601e+00],\n",
       "       [ 3.70272153e-01, -2.41740951e+00],\n",
       "       [-3.61906097e+00,  1.19535515e+00],\n",
       "       [-5.44121909e-01, -3.33111972e+00],\n",
       "       [-1.89521650e+00, -1.51013656e+00],\n",
       "       [-1.40951913e+00, -3.31495547e+00],\n",
       "       [-6.44629892e-01, -1.99613282e+00],\n",
       "       [ 6.59381706e+00,  1.45669374e+00],\n",
       "       [-2.25664562e+00, -1.34734280e+00],\n",
       "       [-2.30161180e+00, -1.29908257e+00],\n",
       "       [-1.16614092e+00, -1.58858642e+00],\n",
       "       [ 7.19979473e-01, -2.78291064e+00],\n",
       "       [ 1.53605967e+00, -2.39416602e+00],\n",
       "       [-1.42435793e+00,  1.58281969e+00],\n",
       "       [ 1.65609683e+00, -1.52198956e+00],\n",
       "       [-2.93435164e-01, -3.41191704e+00],\n",
       "       [-1.33842321e+00,  2.88673239e-01],\n",
       "       [-3.02679408e+00,  1.12144908e+00],\n",
       "       [ 1.01708808e+00, -2.62737916e+00],\n",
       "       [-2.16178194e+00,  1.43462795e+00],\n",
       "       [ 8.83601672e-01, -1.08813083e+00],\n",
       "       [-1.80849559e+00, -1.13308990e+00],\n",
       "       [-4.41295069e+00,  2.27609342e+00],\n",
       "       [-3.12779336e+00,  2.09425580e+00],\n",
       "       [-2.58155443e+00,  1.59958678e+00],\n",
       "       [-4.59985012e-01,  3.69284473e+00],\n",
       "       [ 7.81210041e-01, -1.43687265e+00],\n",
       "       [-1.55047622e+00, -1.88615280e+00],\n",
       "       [-7.21595312e-01, -1.47883401e+00],\n",
       "       [-5.79283970e-01,  3.79094538e+00],\n",
       "       [ 3.57055430e+00,  6.31052013e+00],\n",
       "       [-2.29374055e+00,  7.91810995e-01],\n",
       "       [ 7.24835953e-01, -8.20334319e-01],\n",
       "       [-1.35466601e+00, -1.80960871e+00],\n",
       "       [ 2.64091534e+00, -3.79013671e+00],\n",
       "       [-1.02849528e+00,  7.19301871e-01],\n",
       "       [-1.25365772e+00, -5.28274750e-01],\n",
       "       [ 2.45155307e+00, -3.35591023e+00],\n",
       "       [-2.12496059e+00, -1.68322278e+00],\n",
       "       [-2.25730377e-01, -4.37495880e+00],\n",
       "       [-1.52110894e-01, -3.31664826e-01],\n",
       "       [ 3.24137290e+00, -3.91941939e-01],\n",
       "       [-1.20632164e+00, -6.25714435e-01],\n",
       "       [ 2.08485639e+00, -2.05985085e+00],\n",
       "       [ 1.97796295e+00, -2.08099920e-01]])"
      ]
     },
     "execution_count": 28,
     "metadata": {},
     "output_type": "execute_result"
    }
   ],
   "source": [
    "pca_fit # component 1 ve 2 degerleri"
   ]
  },
  {
   "cell_type": "code",
   "execution_count": 29,
   "metadata": {},
   "outputs": [
    {
     "data": {
      "text/html": [
       "<div>\n",
       "<style scoped>\n",
       "    .dataframe tbody tr th:only-of-type {\n",
       "        vertical-align: middle;\n",
       "    }\n",
       "\n",
       "    .dataframe tbody tr th {\n",
       "        vertical-align: top;\n",
       "    }\n",
       "\n",
       "    .dataframe thead th {\n",
       "        text-align: right;\n",
       "    }\n",
       "</style>\n",
       "<table border=\"1\" class=\"dataframe\">\n",
       "  <thead>\n",
       "    <tr style=\"text-align: right;\">\n",
       "      <th></th>\n",
       "      <th>first_component</th>\n",
       "      <th>second_component</th>\n",
       "    </tr>\n",
       "  </thead>\n",
       "  <tbody>\n",
       "    <tr>\n",
       "      <th>0</th>\n",
       "      <td>0.076848</td>\n",
       "      <td>1.653525</td>\n",
       "    </tr>\n",
       "    <tr>\n",
       "      <th>1</th>\n",
       "      <td>0.337127</td>\n",
       "      <td>-2.320560</td>\n",
       "    </tr>\n",
       "    <tr>\n",
       "      <th>2</th>\n",
       "      <td>3.408362</td>\n",
       "      <td>0.755757</td>\n",
       "    </tr>\n",
       "    <tr>\n",
       "      <th>3</th>\n",
       "      <td>-2.642221</td>\n",
       "      <td>-0.361486</td>\n",
       "    </tr>\n",
       "    <tr>\n",
       "      <th>4</th>\n",
       "      <td>1.071681</td>\n",
       "      <td>-1.511674</td>\n",
       "    </tr>\n",
       "    <tr>\n",
       "      <th>...</th>\n",
       "      <td>...</td>\n",
       "      <td>...</td>\n",
       "    </tr>\n",
       "    <tr>\n",
       "      <th>258</th>\n",
       "      <td>-0.152111</td>\n",
       "      <td>-0.331665</td>\n",
       "    </tr>\n",
       "    <tr>\n",
       "      <th>259</th>\n",
       "      <td>3.241373</td>\n",
       "      <td>-0.391942</td>\n",
       "    </tr>\n",
       "    <tr>\n",
       "      <th>260</th>\n",
       "      <td>-1.206322</td>\n",
       "      <td>-0.625714</td>\n",
       "    </tr>\n",
       "    <tr>\n",
       "      <th>261</th>\n",
       "      <td>2.084856</td>\n",
       "      <td>-2.059851</td>\n",
       "    </tr>\n",
       "    <tr>\n",
       "      <th>262</th>\n",
       "      <td>1.977963</td>\n",
       "      <td>-0.208100</td>\n",
       "    </tr>\n",
       "  </tbody>\n",
       "</table>\n",
       "<p>263 rows × 2 columns</p>\n",
       "</div>"
      ],
      "text/plain": [
       "     first_component  second_component\n",
       "0           0.076848          1.653525\n",
       "1           0.337127         -2.320560\n",
       "2           3.408362          0.755757\n",
       "3          -2.642221         -0.361486\n",
       "4           1.071681         -1.511674\n",
       "..               ...               ...\n",
       "258        -0.152111         -0.331665\n",
       "259         3.241373         -0.391942\n",
       "260        -1.206322         -0.625714\n",
       "261         2.084856         -2.059851\n",
       "262         1.977963         -0.208100\n",
       "\n",
       "[263 rows x 2 columns]"
      ]
     },
     "execution_count": 29,
     "metadata": {},
     "output_type": "execute_result"
    }
   ],
   "source": [
    "component_df = pd.DataFrame(data = pca_fit, columns = ['first_component', 'second_component'])\n",
    "component_df"
   ]
  },
  {
   "cell_type": "markdown",
   "metadata": {},
   "source": [
    "results/components tell us nothing - just combination of columns - which we have no idea about"
   ]
  },
  {
   "cell_type": "code",
   "execution_count": 24,
   "metadata": {},
   "outputs": [
    {
     "data": {
      "image/png": "[encoded data removed]",
      "text/plain": [
       "<Figure size 360x360 with 6 Axes>"
      ]
     },
     "metadata": {
      "needs_background": "light"
     },
     "output_type": "display_data"
    }
   ],
   "source": [
    "sns.pairplot(component_df);"
   ]
  },
  {
   "cell_type": "code",
   "execution_count": 31,
   "metadata": {},
   "outputs": [
    {
     "data": {
      "text/plain": [
       "array([0.45245466, 0.24246801])"
      ]
     },
     "execution_count": 31,
     "metadata": {},
     "output_type": "execute_result"
    }
   ],
   "source": [
    "pca.explained_variance_ratio_   # component'lerin  temsil ettigi component'leri hangi yuzdede temsil edebildigi\n",
    "# almost % 70 temsil edilmekte"
   ]
  },
  {
   "cell_type": "code",
   "execution_count": 37,
   "metadata": {},
   "outputs": [
    {
     "data": {
      "image/png": "[encoded data removed]",
      "text/plain": [
       "<Figure size 432x288 with 1 Axes>"
      ]
     },
     "metadata": {
      "needs_background": "light"
     },
     "output_type": "display_data"
    }
   ],
   "source": [
    "pca = PCA().fit(df)\n",
    "x = range(1, 18)\n",
    "plt.plot(x, np.cumsum(pca.explained_variance_ratio_), 'bx-')\n",
    "plt.xlabel('Number of Components') # Component Count\n",
    "plt.ylabel('Variance Ratio');"
   ]
  },
  {
   "cell_type": "code",
   "execution_count": 38,
   "metadata": {},
   "outputs": [
    {
     "data": {
      "text/plain": [
       "array([4.52454661e-01, 2.42468012e-01, 1.01696801e-01, 5.39343967e-02,\n",
       "       4.16143455e-02, 3.08119274e-02, 2.86933912e-02, 1.47589096e-02,\n",
       "       1.06379741e-02, 7.78968542e-03, 5.72654636e-03, 3.49183444e-03,\n",
       "       3.16734133e-03, 1.57268674e-03, 8.27965421e-04, 2.82821576e-04,\n",
       "       7.06999352e-05])"
      ]
     },
     "execution_count": 38,
     "metadata": {},
     "output_type": "execute_result"
    }
   ],
   "source": [
    "pca.explained_variance_ratio_"
   ]
  },
  {
   "cell_type": "code",
   "execution_count": 39,
   "metadata": {},
   "outputs": [],
   "source": [
    "pca = PCA(n_components = 3)\n",
    "pca_fit = pca.fit_transform(df)"
   ]
  },
  {
   "cell_type": "code",
   "execution_count": 40,
   "metadata": {},
   "outputs": [
    {
     "data": {
      "text/plain": [
       "array([0.45245466, 0.24246801, 0.1016968 ])"
      ]
     },
     "execution_count": 40,
     "metadata": {},
     "output_type": "execute_result"
    }
   ],
   "source": [
    "pca.explained_variance_ratio_  # 3 component ile %80 temsil"
   ]
  },
  {
   "cell_type": "code",
   "execution_count": 41,
   "metadata": {},
   "outputs": [],
   "source": [
    "# 6 component'e cikarsak artis minimal olacak "
   ]
  },
  {
   "cell_type": "code",
   "execution_count": 42,
   "metadata": {},
   "outputs": [],
   "source": [
    "pca = PCA(n_components = 6)\n",
    "pca_fit = pca.fit_transform(df)"
   ]
  },
  {
   "cell_type": "code",
   "execution_count": 44,
   "metadata": {},
   "outputs": [
    {
     "data": {
      "text/plain": [
       "array([0.45245466, 0.24246801, 0.1016968 , 0.0539344 , 0.04161435,\n",
       "       0.03081193])"
      ]
     },
     "execution_count": 44,
     "metadata": {},
     "output_type": "execute_result"
    }
   ],
   "source": [
    "pca.explained_variance_ratio_   # 36component ile %93 temsil"
   ]
  },
  {
   "cell_type": "markdown",
   "metadata": {},
   "source": [
    "3 component optimum secim gorunuyor"
   ]
  },
  {
   "cell_type": "code",
   "execution_count": 45,
   "metadata": {},
   "outputs": [],
   "source": [
    "# component ayrimi sonrasi feature'larin gruplanmasi hakkinda"
   ]
  },
  {
   "cell_type": "code",
   "execution_count": null,
   "metadata": {},
   "outputs": [],
   "source": [
    "from sklearn.decomposition import PCA\n",
    "import pandas as pd\n",
    "import numpy as np\n",
    "np.random.seed(0)\n",
    "# 10 samples with 5 features\n",
    "train_features = np.random.rand(10,5)\n",
    "model = PCA(n_components=2).fit(train_features)\n",
    "X_pc = model.transform(train_features)\n",
    "# number of components\n",
    "n_pcs= model.components_.shape[0]\n",
    "# get the index of the most important feature on EACH component\n",
    "# LIST COMPREHENSION HERE\n",
    "most_important = [np.abs(model.components_[i]).argmax() for i in range(n_pcs)]\n",
    "initial_feature_names = ['a','b','c','d','e']\n",
    "# get the names\n",
    "most_important_names = [initial_feature_names[most_important[i]] for i in range(n_pcs)]\n",
    "# LIST COMPREHENSION HERE AGAIN\n",
    "dic = {'PC{}'.format(i): most_important_names[i] for i in range(n_pcs)}\n",
    "# build the dataframe\n",
    "df = pd.DataFrame(dic.items())"
   ]
  }
 ],
 "metadata": {
  "kernelspec": {
   "display_name": "Python 3",
   "language": "python",
   "name": "python3"
  },
  "language_info": {
   "codemirror_mode": {
    "name": "ipython",
    "version": 3
   },
   "file_extension": ".py",
   "mimetype": "text/x-python",
   "name": "python",
   "nbconvert_exporter": "python",
   "pygments_lexer": "ipython3",
   "version": "3.7.6"
  }
 },
 "nbformat": 4,
 "nbformat_minor": 4
}
