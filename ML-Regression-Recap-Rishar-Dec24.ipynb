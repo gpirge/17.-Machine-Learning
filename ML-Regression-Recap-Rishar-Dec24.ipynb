{
 "cells": [
  {
   "cell_type": "markdown",
   "metadata": {},
   "source": [
    "# Regression Recap"
   ]
  },
  {
   "cell_type": "code",
   "execution_count": 2,
   "metadata": {},
   "outputs": [],
   "source": [
    "import pandas as pd\n",
    "import numpy as np\n",
    "import matplotlib.pyplot as plt\n",
    "import seaborn as sns\n",
    "from sklearn.metrics import mean_squared_error, mean_absolute_error, r2_score\n",
    "from sklearn.model_selection import train_test_split, GridSearchCV\n",
    "import warnings\n",
    "warnings.filterwarnings('ignore')"
   ]
  },
  {
   "cell_type": "code",
   "execution_count": 3,
   "metadata": {},
   "outputs": [],
   "source": [
    "df=pd.read_pickle(\"golden_data_dummy.pkl\")\n",
    "df2=pd.read_pickle(\"golden_data_not_dummy.pkl\")\n",
    "pd.set_option('display.max_columns', None)"
   ]
  },
  {
   "cell_type": "code",
   "execution_count": 4,
   "metadata": {},
   "outputs": [
    {
     "data": {
      "text/html": [
       "<div>\n",
       "<style scoped>\n",
       "    .dataframe tbody tr th:only-of-type {\n",
       "        vertical-align: middle;\n",
       "    }\n",
       "\n",
       "    .dataframe tbody tr th {\n",
       "        vertical-align: top;\n",
       "    }\n",
       "\n",
       "    .dataframe thead th {\n",
       "        text-align: right;\n",
       "    }\n",
       "</style>\n",
       "<table border=\"1\" class=\"dataframe\">\n",
       "  <thead>\n",
       "    <tr style=\"text-align: right;\">\n",
       "      <th></th>\n",
       "      <th>displacement</th>\n",
       "      <th>hp</th>\n",
       "      <th>km</th>\n",
       "      <th>ss_abs</th>\n",
       "      <th>ss_adaptive_cruise_control</th>\n",
       "      <th>ss_adaptive_headlights</th>\n",
       "      <th>ss_alarm_system</th>\n",
       "      <th>ss_blind_spot_monitor</th>\n",
       "      <th>ss_central_door_lock</th>\n",
       "      <th>ss_central_door_lock_with_remote_control</th>\n",
       "      <th>ss_daytime_running_lights</th>\n",
       "      <th>ss_driver_drowsiness_detection</th>\n",
       "      <th>ss_driver_side_airbag</th>\n",
       "      <th>ss_electronic_stability_control</th>\n",
       "      <th>ss_emergency_brake_assistant</th>\n",
       "      <th>ss_emergency_system</th>\n",
       "      <th>ss_fog_lights</th>\n",
       "      <th>ss_head_airbag</th>\n",
       "      <th>ss_immobilizer</th>\n",
       "      <th>ss_isofix</th>\n",
       "      <th>ss_led_daytime_running_lights</th>\n",
       "      <th>ss_led_headlights</th>\n",
       "      <th>ss_lane_departure_warning_system</th>\n",
       "      <th>ss_night_view_assist</th>\n",
       "      <th>ss_passenger_side_airbag</th>\n",
       "      <th>ss_power_steering</th>\n",
       "      <th>ss_rear_airbag</th>\n",
       "      <th>ss_side_airbag</th>\n",
       "      <th>ss_tire_pressure_monitoring_system</th>\n",
       "      <th>ss_traction_control</th>\n",
       "      <th>ss_traffic_sign_recognition</th>\n",
       "      <th>ss_xenon_headlights</th>\n",
       "      <th>consumption_comb</th>\n",
       "      <th>inspection_new</th>\n",
       "      <th>price</th>\n",
       "      <th>age</th>\n",
       "      <th>ent_media_bluetooth</th>\n",
       "      <th>ent_media_cd_player</th>\n",
       "      <th>ent_media_digital_radio</th>\n",
       "      <th>ent_media_hands_free_equipment</th>\n",
       "      <th>ent_media_mp3</th>\n",
       "      <th>ent_media_on_board_computer</th>\n",
       "      <th>ent_media_radio</th>\n",
       "      <th>ent_media_sound_system</th>\n",
       "      <th>ent_media_television</th>\n",
       "      <th>ent_media_usb</th>\n",
       "      <th>nr_of_doors</th>\n",
       "      <th>nr_of_seats</th>\n",
       "      <th>warranty</th>\n",
       "      <th>cc_air_conditioning</th>\n",
       "      <th>cc_air_suspension</th>\n",
       "      <th>cc_armrest</th>\n",
       "      <th>cc_automatic_climate_control</th>\n",
       "      <th>cc_auxiliary_heating</th>\n",
       "      <th>cc_cruise_control</th>\n",
       "      <th>cc_electric_starter</th>\n",
       "      <th>cc_electric_tailgate</th>\n",
       "      <th>cc_electrical_side_mirrors</th>\n",
       "      <th>cc_electrically_adjustable_seats</th>\n",
       "      <th>cc_electrically_heated_windshield</th>\n",
       "      <th>cc_heads_up_display</th>\n",
       "      <th>cc_heated_steering_wheel</th>\n",
       "      <th>cc_hill_holder</th>\n",
       "      <th>cc_keyless_central_door_lock</th>\n",
       "      <th>cc_leather_seats</th>\n",
       "      <th>cc_leather_steering_wheel</th>\n",
       "      <th>cc_light_sensor</th>\n",
       "      <th>cc_lumbar_support</th>\n",
       "      <th>cc_massage_seats</th>\n",
       "      <th>cc_multi_function_steering_wheel</th>\n",
       "      <th>cc_navigation_system</th>\n",
       "      <th>cc_panorama_roof</th>\n",
       "      <th>cc_park_distance_control</th>\n",
       "      <th>cc_parking_assist_system_camera</th>\n",
       "      <th>cc_parking_assist_system_self_steering</th>\n",
       "      <th>cc_parking_assist_system_sensors_front</th>\n",
       "      <th>cc_parking_assist_system_sensors_rear</th>\n",
       "      <th>cc_power_windows</th>\n",
       "      <th>cc_rain_sensor</th>\n",
       "      <th>cc_seat_heating</th>\n",
       "      <th>cc_seat_ventilation</th>\n",
       "      <th>cc_split_rear_seats</th>\n",
       "      <th>cc_start_stop_system</th>\n",
       "      <th>cc_sunroof</th>\n",
       "      <th>cc_tinted_windows</th>\n",
       "      <th>cc_wind_deflector</th>\n",
       "      <th>cc_windshield</th>\n",
       "      <th>ext_alloy_wheels</th>\n",
       "      <th>ext_touch_screen</th>\n",
       "      <th>ext_trailer_hitch</th>\n",
       "      <th>ext_voice_control</th>\n",
       "      <th>make_Audi</th>\n",
       "      <th>make_Opel</th>\n",
       "      <th>make_Renault</th>\n",
       "      <th>model_A1</th>\n",
       "      <th>model_A2</th>\n",
       "      <th>model_A3</th>\n",
       "      <th>model_Astra</th>\n",
       "      <th>model_Clio</th>\n",
       "      <th>model_Corsa</th>\n",
       "      <th>model_Espace</th>\n",
       "      <th>model_Insignia</th>\n",
       "      <th>body_Compact</th>\n",
       "      <th>body_Convertible</th>\n",
       "      <th>body_Coupe</th>\n",
       "      <th>body_Off-Road</th>\n",
       "      <th>body_Other</th>\n",
       "      <th>body_Sedans</th>\n",
       "      <th>body_Station wagon</th>\n",
       "      <th>body_Transporter</th>\n",
       "      <th>body_Van</th>\n",
       "      <th>body_color_Beige</th>\n",
       "      <th>body_color_Black</th>\n",
       "      <th>body_color_Blue</th>\n",
       "      <th>body_color_Bronze</th>\n",
       "      <th>body_color_Brown</th>\n",
       "      <th>body_color_Green</th>\n",
       "      <th>body_color_Grey</th>\n",
       "      <th>body_color_Orange</th>\n",
       "      <th>body_color_Red</th>\n",
       "      <th>body_color_Silver</th>\n",
       "      <th>body_color_Violet</th>\n",
       "      <th>body_color_White</th>\n",
       "      <th>body_color_Yellow</th>\n",
       "      <th>gearing_type_Automatic</th>\n",
       "      <th>gearing_type_Manual</th>\n",
       "      <th>gearing_type_Semi-automatic</th>\n",
       "      <th>fuel_diesel</th>\n",
       "      <th>fuel_electric</th>\n",
       "      <th>fuel_gasoline</th>\n",
       "      <th>fuel_lpg</th>\n",
       "      <th>type_Demonstration</th>\n",
       "      <th>type_Employee's car</th>\n",
       "      <th>type_New</th>\n",
       "      <th>type_Pre-registered</th>\n",
       "      <th>type_Used</th>\n",
       "    </tr>\n",
       "  </thead>\n",
       "  <tbody>\n",
       "    <tr>\n",
       "      <th>0</th>\n",
       "      <td>1422.0</td>\n",
       "      <td>66.0</td>\n",
       "      <td>56013</td>\n",
       "      <td>1.0</td>\n",
       "      <td>0.0</td>\n",
       "      <td>0.0</td>\n",
       "      <td>0.0</td>\n",
       "      <td>0.0</td>\n",
       "      <td>1.0</td>\n",
       "      <td>0.0</td>\n",
       "      <td>1.0</td>\n",
       "      <td>0.0</td>\n",
       "      <td>1.0</td>\n",
       "      <td>1.0</td>\n",
       "      <td>0.0</td>\n",
       "      <td>0.0</td>\n",
       "      <td>1.0</td>\n",
       "      <td>0.0</td>\n",
       "      <td>1.0</td>\n",
       "      <td>1.0</td>\n",
       "      <td>0.0</td>\n",
       "      <td>0.0</td>\n",
       "      <td>0.0</td>\n",
       "      <td>0.0</td>\n",
       "      <td>1.0</td>\n",
       "      <td>1.0</td>\n",
       "      <td>0.0</td>\n",
       "      <td>1.0</td>\n",
       "      <td>1.0</td>\n",
       "      <td>1.0</td>\n",
       "      <td>0.0</td>\n",
       "      <td>1.0</td>\n",
       "      <td>3.8</td>\n",
       "      <td>1</td>\n",
       "      <td>15770</td>\n",
       "      <td>3</td>\n",
       "      <td>1.0</td>\n",
       "      <td>0.0</td>\n",
       "      <td>0.0</td>\n",
       "      <td>1.0</td>\n",
       "      <td>0.0</td>\n",
       "      <td>1.0</td>\n",
       "      <td>1.0</td>\n",
       "      <td>0.0</td>\n",
       "      <td>0.0</td>\n",
       "      <td>0.0</td>\n",
       "      <td>5.0</td>\n",
       "      <td>5.0</td>\n",
       "      <td>1</td>\n",
       "      <td>1.0</td>\n",
       "      <td>0.0</td>\n",
       "      <td>1.0</td>\n",
       "      <td>1.0</td>\n",
       "      <td>0.0</td>\n",
       "      <td>1.0</td>\n",
       "      <td>0.0</td>\n",
       "      <td>0.0</td>\n",
       "      <td>1.0</td>\n",
       "      <td>0.0</td>\n",
       "      <td>0.0</td>\n",
       "      <td>0.0</td>\n",
       "      <td>0.0</td>\n",
       "      <td>1.0</td>\n",
       "      <td>0.0</td>\n",
       "      <td>0.0</td>\n",
       "      <td>1.0</td>\n",
       "      <td>1.0</td>\n",
       "      <td>0.0</td>\n",
       "      <td>0.0</td>\n",
       "      <td>1.0</td>\n",
       "      <td>1.0</td>\n",
       "      <td>0.0</td>\n",
       "      <td>1.0</td>\n",
       "      <td>0.0</td>\n",
       "      <td>0.0</td>\n",
       "      <td>0.0</td>\n",
       "      <td>1.0</td>\n",
       "      <td>1.0</td>\n",
       "      <td>1.0</td>\n",
       "      <td>1.0</td>\n",
       "      <td>0.0</td>\n",
       "      <td>0.0</td>\n",
       "      <td>1.0</td>\n",
       "      <td>0.0</td>\n",
       "      <td>0.0</td>\n",
       "      <td>0.0</td>\n",
       "      <td>0.0</td>\n",
       "      <td>1.0</td>\n",
       "      <td>0.0</td>\n",
       "      <td>0.0</td>\n",
       "      <td>1.0</td>\n",
       "      <td>1</td>\n",
       "      <td>0</td>\n",
       "      <td>0</td>\n",
       "      <td>1</td>\n",
       "      <td>0</td>\n",
       "      <td>0</td>\n",
       "      <td>0</td>\n",
       "      <td>0</td>\n",
       "      <td>0</td>\n",
       "      <td>0</td>\n",
       "      <td>0</td>\n",
       "      <td>0</td>\n",
       "      <td>0</td>\n",
       "      <td>0</td>\n",
       "      <td>0</td>\n",
       "      <td>0</td>\n",
       "      <td>1</td>\n",
       "      <td>0</td>\n",
       "      <td>0</td>\n",
       "      <td>0</td>\n",
       "      <td>0</td>\n",
       "      <td>1</td>\n",
       "      <td>0</td>\n",
       "      <td>0</td>\n",
       "      <td>0</td>\n",
       "      <td>0</td>\n",
       "      <td>0</td>\n",
       "      <td>0</td>\n",
       "      <td>0</td>\n",
       "      <td>0</td>\n",
       "      <td>0</td>\n",
       "      <td>0</td>\n",
       "      <td>0</td>\n",
       "      <td>1</td>\n",
       "      <td>0</td>\n",
       "      <td>0</td>\n",
       "      <td>1</td>\n",
       "      <td>0</td>\n",
       "      <td>0</td>\n",
       "      <td>0</td>\n",
       "      <td>0</td>\n",
       "      <td>0</td>\n",
       "      <td>0</td>\n",
       "      <td>0</td>\n",
       "      <td>1</td>\n",
       "    </tr>\n",
       "    <tr>\n",
       "      <th>1</th>\n",
       "      <td>1798.0</td>\n",
       "      <td>141.0</td>\n",
       "      <td>80000</td>\n",
       "      <td>1.0</td>\n",
       "      <td>0.0</td>\n",
       "      <td>0.0</td>\n",
       "      <td>0.0</td>\n",
       "      <td>0.0</td>\n",
       "      <td>1.0</td>\n",
       "      <td>1.0</td>\n",
       "      <td>1.0</td>\n",
       "      <td>0.0</td>\n",
       "      <td>1.0</td>\n",
       "      <td>1.0</td>\n",
       "      <td>0.0</td>\n",
       "      <td>0.0</td>\n",
       "      <td>0.0</td>\n",
       "      <td>1.0</td>\n",
       "      <td>1.0</td>\n",
       "      <td>1.0</td>\n",
       "      <td>0.0</td>\n",
       "      <td>0.0</td>\n",
       "      <td>0.0</td>\n",
       "      <td>0.0</td>\n",
       "      <td>1.0</td>\n",
       "      <td>1.0</td>\n",
       "      <td>0.0</td>\n",
       "      <td>1.0</td>\n",
       "      <td>1.0</td>\n",
       "      <td>1.0</td>\n",
       "      <td>0.0</td>\n",
       "      <td>1.0</td>\n",
       "      <td>5.6</td>\n",
       "      <td>0</td>\n",
       "      <td>14500</td>\n",
       "      <td>2</td>\n",
       "      <td>1.0</td>\n",
       "      <td>0.0</td>\n",
       "      <td>0.0</td>\n",
       "      <td>1.0</td>\n",
       "      <td>0.0</td>\n",
       "      <td>1.0</td>\n",
       "      <td>1.0</td>\n",
       "      <td>1.0</td>\n",
       "      <td>0.0</td>\n",
       "      <td>0.0</td>\n",
       "      <td>3.0</td>\n",
       "      <td>4.0</td>\n",
       "      <td>0</td>\n",
       "      <td>1.0</td>\n",
       "      <td>0.0</td>\n",
       "      <td>0.0</td>\n",
       "      <td>1.0</td>\n",
       "      <td>0.0</td>\n",
       "      <td>0.0</td>\n",
       "      <td>0.0</td>\n",
       "      <td>0.0</td>\n",
       "      <td>0.0</td>\n",
       "      <td>0.0</td>\n",
       "      <td>0.0</td>\n",
       "      <td>0.0</td>\n",
       "      <td>0.0</td>\n",
       "      <td>1.0</td>\n",
       "      <td>0.0</td>\n",
       "      <td>0.0</td>\n",
       "      <td>1.0</td>\n",
       "      <td>0.0</td>\n",
       "      <td>1.0</td>\n",
       "      <td>0.0</td>\n",
       "      <td>0.0</td>\n",
       "      <td>0.0</td>\n",
       "      <td>0.0</td>\n",
       "      <td>0.0</td>\n",
       "      <td>0.0</td>\n",
       "      <td>0.0</td>\n",
       "      <td>0.0</td>\n",
       "      <td>1.0</td>\n",
       "      <td>1.0</td>\n",
       "      <td>0.0</td>\n",
       "      <td>0.0</td>\n",
       "      <td>0.0</td>\n",
       "      <td>0.0</td>\n",
       "      <td>1.0</td>\n",
       "      <td>0.0</td>\n",
       "      <td>1.0</td>\n",
       "      <td>0.0</td>\n",
       "      <td>0.0</td>\n",
       "      <td>1.0</td>\n",
       "      <td>0.0</td>\n",
       "      <td>0.0</td>\n",
       "      <td>1.0</td>\n",
       "      <td>1</td>\n",
       "      <td>0</td>\n",
       "      <td>0</td>\n",
       "      <td>1</td>\n",
       "      <td>0</td>\n",
       "      <td>0</td>\n",
       "      <td>0</td>\n",
       "      <td>0</td>\n",
       "      <td>0</td>\n",
       "      <td>0</td>\n",
       "      <td>0</td>\n",
       "      <td>0</td>\n",
       "      <td>0</td>\n",
       "      <td>0</td>\n",
       "      <td>0</td>\n",
       "      <td>0</td>\n",
       "      <td>1</td>\n",
       "      <td>0</td>\n",
       "      <td>0</td>\n",
       "      <td>0</td>\n",
       "      <td>0</td>\n",
       "      <td>0</td>\n",
       "      <td>0</td>\n",
       "      <td>0</td>\n",
       "      <td>0</td>\n",
       "      <td>0</td>\n",
       "      <td>0</td>\n",
       "      <td>0</td>\n",
       "      <td>1</td>\n",
       "      <td>0</td>\n",
       "      <td>0</td>\n",
       "      <td>0</td>\n",
       "      <td>0</td>\n",
       "      <td>1</td>\n",
       "      <td>0</td>\n",
       "      <td>0</td>\n",
       "      <td>0</td>\n",
       "      <td>0</td>\n",
       "      <td>1</td>\n",
       "      <td>0</td>\n",
       "      <td>0</td>\n",
       "      <td>0</td>\n",
       "      <td>0</td>\n",
       "      <td>0</td>\n",
       "      <td>1</td>\n",
       "    </tr>\n",
       "    <tr>\n",
       "      <th>2</th>\n",
       "      <td>1598.0</td>\n",
       "      <td>85.0</td>\n",
       "      <td>83450</td>\n",
       "      <td>1.0</td>\n",
       "      <td>0.0</td>\n",
       "      <td>0.0</td>\n",
       "      <td>0.0</td>\n",
       "      <td>0.0</td>\n",
       "      <td>1.0</td>\n",
       "      <td>0.0</td>\n",
       "      <td>1.0</td>\n",
       "      <td>0.0</td>\n",
       "      <td>1.0</td>\n",
       "      <td>1.0</td>\n",
       "      <td>0.0</td>\n",
       "      <td>0.0</td>\n",
       "      <td>0.0</td>\n",
       "      <td>0.0</td>\n",
       "      <td>1.0</td>\n",
       "      <td>1.0</td>\n",
       "      <td>0.0</td>\n",
       "      <td>0.0</td>\n",
       "      <td>0.0</td>\n",
       "      <td>0.0</td>\n",
       "      <td>1.0</td>\n",
       "      <td>1.0</td>\n",
       "      <td>0.0</td>\n",
       "      <td>1.0</td>\n",
       "      <td>1.0</td>\n",
       "      <td>1.0</td>\n",
       "      <td>0.0</td>\n",
       "      <td>0.0</td>\n",
       "      <td>3.8</td>\n",
       "      <td>0</td>\n",
       "      <td>14640</td>\n",
       "      <td>3</td>\n",
       "      <td>0.0</td>\n",
       "      <td>0.0</td>\n",
       "      <td>0.0</td>\n",
       "      <td>0.0</td>\n",
       "      <td>1.0</td>\n",
       "      <td>1.0</td>\n",
       "      <td>0.0</td>\n",
       "      <td>0.0</td>\n",
       "      <td>0.0</td>\n",
       "      <td>0.0</td>\n",
       "      <td>4.0</td>\n",
       "      <td>4.0</td>\n",
       "      <td>1</td>\n",
       "      <td>1.0</td>\n",
       "      <td>0.0</td>\n",
       "      <td>0.0</td>\n",
       "      <td>0.0</td>\n",
       "      <td>0.0</td>\n",
       "      <td>1.0</td>\n",
       "      <td>0.0</td>\n",
       "      <td>0.0</td>\n",
       "      <td>1.0</td>\n",
       "      <td>0.0</td>\n",
       "      <td>0.0</td>\n",
       "      <td>0.0</td>\n",
       "      <td>0.0</td>\n",
       "      <td>1.0</td>\n",
       "      <td>0.0</td>\n",
       "      <td>0.0</td>\n",
       "      <td>1.0</td>\n",
       "      <td>0.0</td>\n",
       "      <td>0.0</td>\n",
       "      <td>0.0</td>\n",
       "      <td>1.0</td>\n",
       "      <td>1.0</td>\n",
       "      <td>0.0</td>\n",
       "      <td>1.0</td>\n",
       "      <td>0.0</td>\n",
       "      <td>0.0</td>\n",
       "      <td>1.0</td>\n",
       "      <td>1.0</td>\n",
       "      <td>1.0</td>\n",
       "      <td>0.0</td>\n",
       "      <td>1.0</td>\n",
       "      <td>0.0</td>\n",
       "      <td>0.0</td>\n",
       "      <td>1.0</td>\n",
       "      <td>0.0</td>\n",
       "      <td>0.0</td>\n",
       "      <td>0.0</td>\n",
       "      <td>0.0</td>\n",
       "      <td>1.0</td>\n",
       "      <td>0.0</td>\n",
       "      <td>0.0</td>\n",
       "      <td>1.0</td>\n",
       "      <td>1</td>\n",
       "      <td>0</td>\n",
       "      <td>0</td>\n",
       "      <td>1</td>\n",
       "      <td>0</td>\n",
       "      <td>0</td>\n",
       "      <td>0</td>\n",
       "      <td>0</td>\n",
       "      <td>0</td>\n",
       "      <td>0</td>\n",
       "      <td>0</td>\n",
       "      <td>0</td>\n",
       "      <td>0</td>\n",
       "      <td>0</td>\n",
       "      <td>0</td>\n",
       "      <td>0</td>\n",
       "      <td>1</td>\n",
       "      <td>0</td>\n",
       "      <td>0</td>\n",
       "      <td>0</td>\n",
       "      <td>0</td>\n",
       "      <td>1</td>\n",
       "      <td>0</td>\n",
       "      <td>0</td>\n",
       "      <td>0</td>\n",
       "      <td>0</td>\n",
       "      <td>0</td>\n",
       "      <td>0</td>\n",
       "      <td>0</td>\n",
       "      <td>0</td>\n",
       "      <td>0</td>\n",
       "      <td>0</td>\n",
       "      <td>0</td>\n",
       "      <td>1</td>\n",
       "      <td>0</td>\n",
       "      <td>0</td>\n",
       "      <td>1</td>\n",
       "      <td>0</td>\n",
       "      <td>0</td>\n",
       "      <td>0</td>\n",
       "      <td>0</td>\n",
       "      <td>0</td>\n",
       "      <td>0</td>\n",
       "      <td>0</td>\n",
       "      <td>1</td>\n",
       "    </tr>\n",
       "  </tbody>\n",
       "</table>\n",
       "</div>"
      ],
      "text/plain": [
       "   displacement     hp     km  ss_abs  ss_adaptive_cruise_control  \\\n",
       "0        1422.0   66.0  56013     1.0                         0.0   \n",
       "1        1798.0  141.0  80000     1.0                         0.0   \n",
       "2        1598.0   85.0  83450     1.0                         0.0   \n",
       "\n",
       "   ss_adaptive_headlights  ss_alarm_system  ss_blind_spot_monitor  \\\n",
       "0                     0.0              0.0                    0.0   \n",
       "1                     0.0              0.0                    0.0   \n",
       "2                     0.0              0.0                    0.0   \n",
       "\n",
       "   ss_central_door_lock  ss_central_door_lock_with_remote_control  \\\n",
       "0                   1.0                                       0.0   \n",
       "1                   1.0                                       1.0   \n",
       "2                   1.0                                       0.0   \n",
       "\n",
       "   ss_daytime_running_lights  ss_driver_drowsiness_detection  \\\n",
       "0                        1.0                             0.0   \n",
       "1                        1.0                             0.0   \n",
       "2                        1.0                             0.0   \n",
       "\n",
       "   ss_driver_side_airbag  ss_electronic_stability_control  \\\n",
       "0                    1.0                              1.0   \n",
       "1                    1.0                              1.0   \n",
       "2                    1.0                              1.0   \n",
       "\n",
       "   ss_emergency_brake_assistant  ss_emergency_system  ss_fog_lights  \\\n",
       "0                           0.0                  0.0            1.0   \n",
       "1                           0.0                  0.0            0.0   \n",
       "2                           0.0                  0.0            0.0   \n",
       "\n",
       "   ss_head_airbag  ss_immobilizer  ss_isofix  ss_led_daytime_running_lights  \\\n",
       "0             0.0             1.0        1.0                            0.0   \n",
       "1             1.0             1.0        1.0                            0.0   \n",
       "2             0.0             1.0        1.0                            0.0   \n",
       "\n",
       "   ss_led_headlights  ss_lane_departure_warning_system  ss_night_view_assist  \\\n",
       "0                0.0                               0.0                   0.0   \n",
       "1                0.0                               0.0                   0.0   \n",
       "2                0.0                               0.0                   0.0   \n",
       "\n",
       "   ss_passenger_side_airbag  ss_power_steering  ss_rear_airbag  \\\n",
       "0                       1.0                1.0             0.0   \n",
       "1                       1.0                1.0             0.0   \n",
       "2                       1.0                1.0             0.0   \n",
       "\n",
       "   ss_side_airbag  ss_tire_pressure_monitoring_system  ss_traction_control  \\\n",
       "0             1.0                                 1.0                  1.0   \n",
       "1             1.0                                 1.0                  1.0   \n",
       "2             1.0                                 1.0                  1.0   \n",
       "\n",
       "   ss_traffic_sign_recognition  ss_xenon_headlights  consumption_comb  \\\n",
       "0                          0.0                  1.0               3.8   \n",
       "1                          0.0                  1.0               5.6   \n",
       "2                          0.0                  0.0               3.8   \n",
       "\n",
       "   inspection_new  price  age  ent_media_bluetooth  ent_media_cd_player  \\\n",
       "0               1  15770    3                  1.0                  0.0   \n",
       "1               0  14500    2                  1.0                  0.0   \n",
       "2               0  14640    3                  0.0                  0.0   \n",
       "\n",
       "   ent_media_digital_radio  ent_media_hands_free_equipment  ent_media_mp3  \\\n",
       "0                      0.0                             1.0            0.0   \n",
       "1                      0.0                             1.0            0.0   \n",
       "2                      0.0                             0.0            1.0   \n",
       "\n",
       "   ent_media_on_board_computer  ent_media_radio  ent_media_sound_system  \\\n",
       "0                          1.0              1.0                     0.0   \n",
       "1                          1.0              1.0                     1.0   \n",
       "2                          1.0              0.0                     0.0   \n",
       "\n",
       "   ent_media_television  ent_media_usb  nr_of_doors  nr_of_seats  warranty  \\\n",
       "0                   0.0            0.0          5.0          5.0         1   \n",
       "1                   0.0            0.0          3.0          4.0         0   \n",
       "2                   0.0            0.0          4.0          4.0         1   \n",
       "\n",
       "   cc_air_conditioning  cc_air_suspension  cc_armrest  \\\n",
       "0                  1.0                0.0         1.0   \n",
       "1                  1.0                0.0         0.0   \n",
       "2                  1.0                0.0         0.0   \n",
       "\n",
       "   cc_automatic_climate_control  cc_auxiliary_heating  cc_cruise_control  \\\n",
       "0                           1.0                   0.0                1.0   \n",
       "1                           1.0                   0.0                0.0   \n",
       "2                           0.0                   0.0                1.0   \n",
       "\n",
       "   cc_electric_starter  cc_electric_tailgate  cc_electrical_side_mirrors  \\\n",
       "0                  0.0                   0.0                         1.0   \n",
       "1                  0.0                   0.0                         0.0   \n",
       "2                  0.0                   0.0                         1.0   \n",
       "\n",
       "   cc_electrically_adjustable_seats  cc_electrically_heated_windshield  \\\n",
       "0                               0.0                                0.0   \n",
       "1                               0.0                                0.0   \n",
       "2                               0.0                                0.0   \n",
       "\n",
       "   cc_heads_up_display  cc_heated_steering_wheel  cc_hill_holder  \\\n",
       "0                  0.0                       0.0             1.0   \n",
       "1                  0.0                       0.0             1.0   \n",
       "2                  0.0                       0.0             1.0   \n",
       "\n",
       "   cc_keyless_central_door_lock  cc_leather_seats  cc_leather_steering_wheel  \\\n",
       "0                           0.0               0.0                        1.0   \n",
       "1                           0.0               0.0                        1.0   \n",
       "2                           0.0               0.0                        1.0   \n",
       "\n",
       "   cc_light_sensor  cc_lumbar_support  cc_massage_seats  \\\n",
       "0              1.0                0.0               0.0   \n",
       "1              0.0                1.0               0.0   \n",
       "2              0.0                0.0               0.0   \n",
       "\n",
       "   cc_multi_function_steering_wheel  cc_navigation_system  cc_panorama_roof  \\\n",
       "0                               1.0                   1.0               0.0   \n",
       "1                               0.0                   0.0               0.0   \n",
       "2                               1.0                   1.0               0.0   \n",
       "\n",
       "   cc_park_distance_control  cc_parking_assist_system_camera  \\\n",
       "0                       1.0                              0.0   \n",
       "1                       0.0                              0.0   \n",
       "2                       1.0                              0.0   \n",
       "\n",
       "   cc_parking_assist_system_self_steering  \\\n",
       "0                                     0.0   \n",
       "1                                     0.0   \n",
       "2                                     0.0   \n",
       "\n",
       "   cc_parking_assist_system_sensors_front  \\\n",
       "0                                     0.0   \n",
       "1                                     0.0   \n",
       "2                                     1.0   \n",
       "\n",
       "   cc_parking_assist_system_sensors_rear  cc_power_windows  cc_rain_sensor  \\\n",
       "0                                    1.0               1.0             1.0   \n",
       "1                                    1.0               1.0             0.0   \n",
       "2                                    1.0               1.0             0.0   \n",
       "\n",
       "   cc_seat_heating  cc_seat_ventilation  cc_split_rear_seats  \\\n",
       "0              1.0                  0.0                  0.0   \n",
       "1              0.0                  0.0                  0.0   \n",
       "2              1.0                  0.0                  0.0   \n",
       "\n",
       "   cc_start_stop_system  cc_sunroof  cc_tinted_windows  cc_wind_deflector  \\\n",
       "0                   1.0         0.0                0.0                0.0   \n",
       "1                   1.0         0.0                1.0                0.0   \n",
       "2                   1.0         0.0                0.0                0.0   \n",
       "\n",
       "   cc_windshield  ext_alloy_wheels  ext_touch_screen  ext_trailer_hitch  \\\n",
       "0            0.0               1.0               0.0                0.0   \n",
       "1            0.0               1.0               0.0                0.0   \n",
       "2            0.0               1.0               0.0                0.0   \n",
       "\n",
       "   ext_voice_control  make_Audi  make_Opel  make_Renault  model_A1  model_A2  \\\n",
       "0                1.0          1          0             0         1         0   \n",
       "1                1.0          1          0             0         1         0   \n",
       "2                1.0          1          0             0         1         0   \n",
       "\n",
       "   model_A3  model_Astra  model_Clio  model_Corsa  model_Espace  \\\n",
       "0         0            0           0            0             0   \n",
       "1         0            0           0            0             0   \n",
       "2         0            0           0            0             0   \n",
       "\n",
       "   model_Insignia  body_Compact  body_Convertible  body_Coupe  body_Off-Road  \\\n",
       "0               0             0                 0           0              0   \n",
       "1               0             0                 0           0              0   \n",
       "2               0             0                 0           0              0   \n",
       "\n",
       "   body_Other  body_Sedans  body_Station wagon  body_Transporter  body_Van  \\\n",
       "0           0            1                   0                 0         0   \n",
       "1           0            1                   0                 0         0   \n",
       "2           0            1                   0                 0         0   \n",
       "\n",
       "   body_color_Beige  body_color_Black  body_color_Blue  body_color_Bronze  \\\n",
       "0                 0                 1                0                  0   \n",
       "1                 0                 0                0                  0   \n",
       "2                 0                 1                0                  0   \n",
       "\n",
       "   body_color_Brown  body_color_Green  body_color_Grey  body_color_Orange  \\\n",
       "0                 0                 0                0                  0   \n",
       "1                 0                 0                0                  0   \n",
       "2                 0                 0                0                  0   \n",
       "\n",
       "   body_color_Red  body_color_Silver  body_color_Violet  body_color_White  \\\n",
       "0               0                  0                  0                 0   \n",
       "1               1                  0                  0                 0   \n",
       "2               0                  0                  0                 0   \n",
       "\n",
       "   body_color_Yellow  gearing_type_Automatic  gearing_type_Manual  \\\n",
       "0                  0                       1                    0   \n",
       "1                  0                       1                    0   \n",
       "2                  0                       1                    0   \n",
       "\n",
       "   gearing_type_Semi-automatic  fuel_diesel  fuel_electric  fuel_gasoline  \\\n",
       "0                            0            1              0              0   \n",
       "1                            0            0              0              1   \n",
       "2                            0            1              0              0   \n",
       "\n",
       "   fuel_lpg  type_Demonstration  type_Employee's car  type_New  \\\n",
       "0         0                   0                    0         0   \n",
       "1         0                   0                    0         0   \n",
       "2         0                   0                    0         0   \n",
       "\n",
       "   type_Pre-registered  type_Used  \n",
       "0                    0          1  \n",
       "1                    0          1  \n",
       "2                    0          1  "
      ]
     },
     "execution_count": 4,
     "metadata": {},
     "output_type": "execute_result"
    }
   ],
   "source": [
    "df.head(3)"
   ]
  },
  {
   "cell_type": "code",
   "execution_count": 5,
   "metadata": {},
   "outputs": [
    {
     "data": {
      "text/plain": [
       "(14990, 136)"
      ]
     },
     "execution_count": 5,
     "metadata": {},
     "output_type": "execute_result"
    }
   ],
   "source": [
    "df.shape"
   ]
  },
  {
   "cell_type": "code",
   "execution_count": 6,
   "metadata": {},
   "outputs": [
    {
     "data": {
      "text/plain": [
       "<matplotlib.axes._subplots.AxesSubplot at 0x19357cb5a48>"
      ]
     },
     "execution_count": 6,
     "metadata": {},
     "output_type": "execute_result"
    },
    {
     "data": {
      "image/png": "[encoded data removed]",
      "text/plain": [
       "<Figure size 432x288 with 1 Axes>"
      ]
     },
     "metadata": {
      "needs_background": "light"
     },
     "output_type": "display_data"
    }
   ],
   "source": [
    "df.corr()['price'].sort_values().plot.barh()  #correlation ile hepsini goremeyecgimiz icin price ile filtreledik"
   ]
  },
  {
   "cell_type": "code",
   "execution_count": 12,
   "metadata": {},
   "outputs": [
    {
     "data": {
      "text/plain": [
       "<matplotlib.axes._subplots.AxesSubplot at 0x19358eee5c8>"
      ]
     },
     "execution_count": 12,
     "metadata": {},
     "output_type": "execute_result"
    },
    {
     "data": {
      "image/png": "[encoded data removed]",
      "text/plain": [
       "<Figure size 432x288 with 1 Axes>"
      ]
     },
     "metadata": {
      "needs_background": "light"
     },
     "output_type": "display_data"
    }
   ],
   "source": [
    "df.corr()['price'].sort_values().head(10).plot.barh()"
   ]
  },
  {
   "cell_type": "code",
   "execution_count": 13,
   "metadata": {},
   "outputs": [
    {
     "data": {
      "text/plain": [
       "<matplotlib.axes._subplots.AxesSubplot at 0x19358fa5a48>"
      ]
     },
     "execution_count": 13,
     "metadata": {},
     "output_type": "execute_result"
    },
    {
     "data": {
      "image/png": "[encoded data removed]",
      "text/plain": [
       "<Figure size 432x288 with 1 Axes>"
      ]
     },
     "metadata": {
      "needs_background": "light"
     },
     "output_type": "display_data"
    }
   ],
   "source": [
    "df.corr()['price'].sort_values().tail(10).plot.barh()"
   ]
  },
  {
   "cell_type": "code",
   "execution_count": 14,
   "metadata": {},
   "outputs": [
    {
     "data": {
      "image/png": "[encoded data removed]",
      "text/plain": [
       "<Figure size 432x288 with 1 Axes>"
      ]
     },
     "metadata": {
      "needs_background": "light"
     },
     "output_type": "display_data"
    }
   ],
   "source": [
    "df.corr()['price'].sort_values().tail(11)[:-1].plot.barh();"
   ]
  },
  {
   "cell_type": "code",
   "execution_count": 10,
   "metadata": {},
   "outputs": [
    {
     "data": {
      "image/png": "[encoded data removed]",
      "text/plain": [
       "<Figure size 432x288 with 1 Axes>"
      ]
     },
     "metadata": {
      "needs_background": "light"
     },
     "output_type": "display_data"
    }
   ],
   "source": [
    "sns.distplot(df.price);"
   ]
  },
  {
   "cell_type": "code",
   "execution_count": 11,
   "metadata": {},
   "outputs": [
    {
     "data": {
      "text/plain": [
       "<matplotlib.axes._subplots.AxesSubplot at 0x19358eb2b88>"
      ]
     },
     "execution_count": 11,
     "metadata": {},
     "output_type": "execute_result"
    },
    {
     "data": {
      "image/png": "[encoded data removed]",
      "text/plain": [
       "<Figure size 432x288 with 1 Axes>"
      ]
     },
     "metadata": {
      "needs_background": "light"
     },
     "output_type": "display_data"
    }
   ],
   "source": [
    "sns.boxplot(df.price, orient = 'v') # outlier da olsa, gercek veri - hata olmadigi icin silinmedi"
   ]
  },
  {
   "cell_type": "code",
   "execution_count": null,
   "metadata": {},
   "outputs": [],
   "source": []
  },
  {
   "cell_type": "code",
   "execution_count": 15,
   "metadata": {},
   "outputs": [],
   "source": [
    "X = df.drop(['price'], axis = 1)\n",
    "y = df['price']"
   ]
  },
  {
   "cell_type": "code",
   "execution_count": 17,
   "metadata": {},
   "outputs": [
    {
     "data": {
      "text/plain": [
       "(14990, 135)"
      ]
     },
     "execution_count": 17,
     "metadata": {},
     "output_type": "execute_result"
    }
   ],
   "source": [
    "X.shape"
   ]
  },
  {
   "cell_type": "code",
   "execution_count": 18,
   "metadata": {},
   "outputs": [
    {
     "data": {
      "text/plain": [
       "(14990,)"
      ]
     },
     "execution_count": 18,
     "metadata": {},
     "output_type": "execute_result"
    }
   ],
   "source": [
    "y.shape"
   ]
  },
  {
   "cell_type": "code",
   "execution_count": null,
   "metadata": {},
   "outputs": [],
   "source": []
  },
  {
   "cell_type": "code",
   "execution_count": 19,
   "metadata": {},
   "outputs": [],
   "source": [
    "from sklearn.model_selection import train_test_split\n",
    "X_train, X_test, y_train, y_test = train_test_split(X, y, test_size = 0.2, random_state = 42)"
   ]
  },
  {
   "cell_type": "code",
   "execution_count": 20,
   "metadata": {},
   "outputs": [],
   "source": [
    "def eval_metrics(actual, pred):\n",
    "    rmse = np.sqrt(mean_squared_error(actual, pred))\n",
    "    mae = mean_absolute_error(actual, pred)\n",
    "    mse = mean_squared_error(actual, pred)\n",
    "    score = r2_score(actual, pred)\n",
    "    return print(\"r2_score:\", score, \"\\n\",\"mae:\", mae, \"\\n\",\"mse:\",mse, \"\\n\",\"rmse:\",rmse)"
   ]
  },
  {
   "cell_type": "code",
   "execution_count": null,
   "metadata": {},
   "outputs": [],
   "source": []
  },
  {
   "cell_type": "markdown",
   "metadata": {},
   "source": [
    "**1. Linear Regression**"
   ]
  },
  {
   "cell_type": "code",
   "execution_count": 21,
   "metadata": {},
   "outputs": [],
   "source": [
    "from sklearn.linear_model import LinearRegression"
   ]
  },
  {
   "cell_type": "code",
   "execution_count": 22,
   "metadata": {},
   "outputs": [],
   "source": [
    "lm = LinearRegression()"
   ]
  },
  {
   "cell_type": "code",
   "execution_count": 23,
   "metadata": {},
   "outputs": [
    {
     "data": {
      "text/plain": [
       "sklearn.linear_model._base.LinearRegression"
      ]
     },
     "execution_count": 23,
     "metadata": {},
     "output_type": "execute_result"
    }
   ],
   "source": [
    "type(lm)"
   ]
  },
  {
   "cell_type": "code",
   "execution_count": null,
   "metadata": {},
   "outputs": [],
   "source": []
  },
  {
   "cell_type": "code",
   "execution_count": 24,
   "metadata": {},
   "outputs": [
    {
     "data": {
      "text/plain": [
       "LinearRegression(copy_X=True, fit_intercept=True, n_jobs=None, normalize=False)"
      ]
     },
     "execution_count": 24,
     "metadata": {},
     "output_type": "execute_result"
    }
   ],
   "source": [
    "lm.fit(X_train, y_train)"
   ]
  },
  {
   "cell_type": "code",
   "execution_count": 25,
   "metadata": {},
   "outputs": [
    {
     "data": {
      "text/plain": [
       "12863.60208058797"
      ]
     },
     "execution_count": 25,
     "metadata": {},
     "output_type": "execute_result"
    }
   ],
   "source": [
    "lm.intercept_"
   ]
  },
  {
   "cell_type": "code",
   "execution_count": 26,
   "metadata": {},
   "outputs": [
    {
     "data": {
      "text/plain": [
       "array([-1.07324683e+00,  1.00166983e+02, -3.66043273e-02, -4.31072316e+01,\n",
       "       -2.11696074e+01,  2.90467232e+02,  1.47113286e+02, -4.26342916e+02,\n",
       "       -2.45857390e+02,  1.44234756e+01, -2.93066855e+02, -1.16108907e+01,\n",
       "       -1.62343964e+02, -2.49233364e+02,  3.14435352e+01, -8.25700143e+02,\n",
       "       -1.68410690e+02, -6.39788701e+01, -2.52627947e+02, -3.36816275e+02,\n",
       "       -2.21937795e+02,  6.50316165e+02,  7.88768070e+02,  5.31963200e+02,\n",
       "        5.00522695e+02, -4.61395475e+02, -5.70148532e+02,  1.39061715e+02,\n",
       "        1.34225323e+02,  2.11425107e+02,  1.86571437e+01, -4.13212783e+02,\n",
       "        1.22899206e+02, -1.10716807e+02, -1.60110802e+03, -5.85909249e+02,\n",
       "        1.44819775e+02,  9.04394102e+02, -7.91700474e+01, -8.95007277e+01,\n",
       "        7.50148324e+00,  3.55613012e+02, -1.90184859e+02, -1.39196020e+03,\n",
       "       -1.95752826e+02,  3.11567861e+02,  3.60531806e+01, -8.14980053e+01,\n",
       "        3.51648412e+02,  3.35134852e+02, -4.18921989e+01,  2.67668171e+02,\n",
       "       -2.30397964e+02,  8.10384207e+01, -1.76214598e-12,  4.97830368e+01,\n",
       "        1.62236253e+02,  2.96949578e+02,  6.46863104e+02,  2.33634542e+03,\n",
       "        3.34576206e+02,  2.60053009e+02,  2.00760844e+02, -6.05056459e+02,\n",
       "        1.14711425e+02,  1.44745153e+02, -8.29907234e+01,  5.36678360e+02,\n",
       "        1.43670323e+02,  4.65506024e+02, -3.81255039e+02,  6.23623710e+02,\n",
       "       -5.92117445e+00,  1.01664971e+03,  3.51594795e+02, -4.64416826e+02,\n",
       "       -1.09427478e+02, -2.14909446e+02,  2.79970962e+01,  8.57959262e+02,\n",
       "       -2.98919712e+02, -1.04741336e+02,  1.06938792e+03,  1.60633109e+02,\n",
       "       -9.43039898e+02, -2.39934589e+02,  5.58157183e+02, -5.74468461e+02,\n",
       "        1.96748116e+02, -2.51756693e+02,  2.91584336e+03, -2.36062372e+03,\n",
       "       -5.55219643e+02, -2.17125820e+03,  5.99036340e+03, -9.03261843e+02,\n",
       "       -1.00095644e+03, -4.26796017e+03, -2.41030218e+03,  3.71274053e+03,\n",
       "        1.05063490e+03, -1.11875272e+02,  2.36872296e+03, -2.19469285e+02,\n",
       "       -3.99294425e+02, -7.79360713e+02, -1.64966108e+02, -4.04082659e+01,\n",
       "       -1.38599901e+03,  7.32650114e+02,  3.23040277e+01,  6.08033389e+02,\n",
       "        5.53577952e+02, -1.51291141e+02, -1.33515286e+01,  5.12159508e+02,\n",
       "        6.75167285e+02, -2.79544089e+03,  2.69134974e+02,  3.72387701e+02,\n",
       "       -1.47412094e+03,  7.54436949e+02,  6.57002718e+02, -2.59742686e+02,\n",
       "       -1.84579523e+03,  2.10553791e+03,  1.33832729e+03, -2.57442989e+03,\n",
       "        4.24662518e+02,  8.11440082e+02,  1.78786012e+03, -1.14032001e+03,\n",
       "        9.36704115e+02, -5.24506129e+02, -1.05973810e+03])"
      ]
     },
     "execution_count": 26,
     "metadata": {},
     "output_type": "execute_result"
    }
   ],
   "source": [
    "lm.coef_  #her column icin bir coefficient uretildi"
   ]
  },
  {
   "cell_type": "code",
   "execution_count": null,
   "metadata": {},
   "outputs": [],
   "source": []
  },
  {
   "cell_type": "code",
   "execution_count": 27,
   "metadata": {},
   "outputs": [],
   "source": [
    "y_pred = lm.predict(X_test)"
   ]
  },
  {
   "cell_type": "code",
   "execution_count": 29,
   "metadata": {},
   "outputs": [
    {
     "name": "stdout",
     "output_type": "stream",
     "text": [
      "r2_score: 0.8917673810996866 \n",
      " mae: 1672.3867626670994 \n",
      " mse: 5481554.524312932 \n",
      " rmse: 2341.271988538054\n"
     ]
    }
   ],
   "source": [
    "eval_metrics(y_test, y_pred)  # label'daki (y) degisimler %89 oraninda X feature'larla aciklabiliyor\n",
    "# MAE = anlami - +/- 1672 euro civarinda prediction hatasi\n",
    "# RMSE - 2 model sonucu karsilastirirken uygun olan RMSE\"lerin karsilastirilmasi uygundur"
   ]
  },
  {
   "cell_type": "code",
   "execution_count": 32,
   "metadata": {},
   "outputs": [
    {
     "data": {
      "image/png": "[encoded data removed]",
      "text/plain": [
       "<Figure size 432x288 with 1 Axes>"
      ]
     },
     "metadata": {
      "needs_background": "light"
     },
     "output_type": "display_data"
    }
   ],
   "source": [
    "plt.scatter(y_test, y_pred);  # x ekseni gercek degerler"
   ]
  },
  {
   "cell_type": "code",
   "execution_count": 35,
   "metadata": {},
   "outputs": [
    {
     "data": {
      "image/png": "[encoded data removed]",
      "text/plain": [
       "<Figure size 576x396 with 2 Axes>"
      ]
     },
     "metadata": {},
     "output_type": "display_data"
    }
   ],
   "source": [
    "from yellowbrick.regressor import ResidualsPlot\n",
    "visualizer = ResidualsPlot(lm)\n",
    "visualizer.fit(X_train, y_train)  # Fit the training data to the visualizer\n",
    "visualizer.score(X_test, y_test)  # Evaluate the model on the test data\n",
    "visualizer.show();\n",
    "# fiyat arttikca, residual - tahmin/gercek arasi fark artiyor. 30.000 euro'ya kadar hatalar fazla degil"
   ]
  },
  {
   "cell_type": "code",
   "execution_count": 36,
   "metadata": {},
   "outputs": [],
   "source": [
    "my_dict = {'Actual': y_test, 'Pred': y_pred}"
   ]
  },
  {
   "cell_type": "code",
   "execution_count": 37,
   "metadata": {},
   "outputs": [],
   "source": [
    "compare = pd.DataFrame(my_dict)"
   ]
  },
  {
   "cell_type": "code",
   "execution_count": 133,
   "metadata": {},
   "outputs": [
    {
     "data": {
      "text/html": [
       "<div>\n",
       "<style scoped>\n",
       "    .dataframe tbody tr th:only-of-type {\n",
       "        vertical-align: middle;\n",
       "    }\n",
       "\n",
       "    .dataframe tbody tr th {\n",
       "        vertical-align: top;\n",
       "    }\n",
       "\n",
       "    .dataframe thead th {\n",
       "        text-align: right;\n",
       "    }\n",
       "</style>\n",
       "<table border=\"1\" class=\"dataframe\">\n",
       "  <thead>\n",
       "    <tr style=\"text-align: right;\">\n",
       "      <th></th>\n",
       "      <th>Actual</th>\n",
       "      <th>Pred</th>\n",
       "    </tr>\n",
       "  </thead>\n",
       "  <tbody>\n",
       "    <tr>\n",
       "      <th>8991</th>\n",
       "      <td>7899</td>\n",
       "      <td>4672.377439</td>\n",
       "    </tr>\n",
       "    <tr>\n",
       "      <th>12615</th>\n",
       "      <td>32990</td>\n",
       "      <td>29005.687786</td>\n",
       "    </tr>\n",
       "    <tr>\n",
       "      <th>12229</th>\n",
       "      <td>20890</td>\n",
       "      <td>21887.321513</td>\n",
       "    </tr>\n",
       "    <tr>\n",
       "      <th>2610</th>\n",
       "      <td>21789</td>\n",
       "      <td>24070.212453</td>\n",
       "    </tr>\n",
       "    <tr>\n",
       "      <th>9133</th>\n",
       "      <td>8600</td>\n",
       "      <td>12367.993851</td>\n",
       "    </tr>\n",
       "    <tr>\n",
       "      <th>6044</th>\n",
       "      <td>10950</td>\n",
       "      <td>12627.702454</td>\n",
       "    </tr>\n",
       "    <tr>\n",
       "      <th>8982</th>\n",
       "      <td>7900</td>\n",
       "      <td>6310.584894</td>\n",
       "    </tr>\n",
       "    <tr>\n",
       "      <th>15166</th>\n",
       "      <td>21950</td>\n",
       "      <td>25545.030428</td>\n",
       "    </tr>\n",
       "    <tr>\n",
       "      <th>14196</th>\n",
       "      <td>9680</td>\n",
       "      <td>8295.015897</td>\n",
       "    </tr>\n",
       "    <tr>\n",
       "      <th>14686</th>\n",
       "      <td>11480</td>\n",
       "      <td>11516.994118</td>\n",
       "    </tr>\n",
       "    <tr>\n",
       "      <th>7273</th>\n",
       "      <td>15450</td>\n",
       "      <td>14290.784020</td>\n",
       "    </tr>\n",
       "    <tr>\n",
       "      <th>12292</th>\n",
       "      <td>19400</td>\n",
       "      <td>19139.558060</td>\n",
       "    </tr>\n",
       "    <tr>\n",
       "      <th>5902</th>\n",
       "      <td>14499</td>\n",
       "      <td>13806.342019</td>\n",
       "    </tr>\n",
       "    <tr>\n",
       "      <th>2103</th>\n",
       "      <td>25900</td>\n",
       "      <td>25094.541677</td>\n",
       "    </tr>\n",
       "    <tr>\n",
       "      <th>5111</th>\n",
       "      <td>26548</td>\n",
       "      <td>24831.878598</td>\n",
       "    </tr>\n",
       "  </tbody>\n",
       "</table>\n",
       "</div>"
      ],
      "text/plain": [
       "       Actual          Pred\n",
       "8991     7899   4672.377439\n",
       "12615   32990  29005.687786\n",
       "12229   20890  21887.321513\n",
       "2610    21789  24070.212453\n",
       "9133     8600  12367.993851\n",
       "6044    10950  12627.702454\n",
       "8982     7900   6310.584894\n",
       "15166   21950  25545.030428\n",
       "14196    9680   8295.015897\n",
       "14686   11480  11516.994118\n",
       "7273    15450  14290.784020\n",
       "12292   19400  19139.558060\n",
       "5902    14499  13806.342019\n",
       "2103    25900  25094.541677\n",
       "5111    26548  24831.878598"
      ]
     },
     "execution_count": 133,
     "metadata": {},
     "output_type": "execute_result"
    }
   ],
   "source": [
    "compare.sample(15)"
   ]
  },
  {
   "cell_type": "code",
   "execution_count": null,
   "metadata": {},
   "outputs": [],
   "source": []
  },
  {
   "cell_type": "markdown",
   "metadata": {},
   "source": [
    "**Crossvalidation (CV)**"
   ]
  },
  {
   "cell_type": "code",
   "execution_count": 39,
   "metadata": {},
   "outputs": [
    {
     "data": {
      "text/plain": [
       "0.8853675809888788"
      ]
     },
     "execution_count": 39,
     "metadata": {},
     "output_type": "execute_result"
    }
   ],
   "source": [
    "from sklearn.model_selection import cross_val_score\n",
    "cv_scores = cross_val_score(estimator=lm, X=X_train, y=y_train, cv=5)\n",
    "cv_scores.mean()  # default r2_score hesapliyor"
   ]
  },
  {
   "cell_type": "code",
   "execution_count": 40,
   "metadata": {},
   "outputs": [
    {
     "data": {
      "text/plain": [
       "array([0.88213508, 0.88024083, 0.89031947, 0.88202718, 0.89211535])"
      ]
     },
     "execution_count": 40,
     "metadata": {},
     "output_type": "execute_result"
    }
   ],
   "source": [
    "cv_scores"
   ]
  },
  {
   "cell_type": "code",
   "execution_count": 41,
   "metadata": {},
   "outputs": [
    {
     "data": {
      "text/plain": [
       "6037189.456297811"
      ]
     },
     "execution_count": 41,
     "metadata": {},
     "output_type": "execute_result"
    }
   ],
   "source": [
    "accuraries = cross_val_score(estimator=lm, X=X_train, y=y_train, scoring = \"neg_mean_squared_error\", cv=10)\n",
    "-accuraries.mean()"
   ]
  },
  {
   "cell_type": "markdown",
   "metadata": {},
   "source": [
    "cv default r2_score kullanir - yukaridaki satirda mse kullanimi durumu"
   ]
  },
  {
   "cell_type": "code",
   "execution_count": 42,
   "metadata": {},
   "outputs": [
    {
     "data": {
      "text/plain": [
       "1705.2377616167348"
      ]
     },
     "execution_count": 42,
     "metadata": {},
     "output_type": "execute_result"
    }
   ],
   "source": [
    "accuraries = cross_val_score(estimator=lm, X=X_train, y=y_train, scoring = \"neg_mean_absolute_error\", cv=10)\n",
    "-accuraries.mean()"
   ]
  },
  {
   "cell_type": "code",
   "execution_count": null,
   "metadata": {},
   "outputs": [],
   "source": []
  },
  {
   "cell_type": "markdown",
   "metadata": {},
   "source": [
    "**Ridge Regression**"
   ]
  },
  {
   "attachments": {
    "image.png": {
     "image/png": "[encoded data removed]"
    }
   },
   "cell_type": "markdown",
   "metadata": {},
   "source": [
    "![image.png](attachment:image.png)"
   ]
  },
  {
   "cell_type": "code",
   "execution_count": 43,
   "metadata": {},
   "outputs": [],
   "source": [
    "from sklearn.linear_model import Ridge\n",
    "from sklearn.linear_model import RidgeCV"
   ]
  },
  {
   "cell_type": "markdown",
   "metadata": {},
   "source": [
    "scale etmemisseniz normalize = True yapilir"
   ]
  },
  {
   "cell_type": "code",
   "execution_count": 44,
   "metadata": {},
   "outputs": [],
   "source": [
    "ridge_model = Ridge(normalize = True)\n",
    "ridge_model.fit(X_train, y_train)\n",
    "y_pred = ridge_model.predict(X_test)"
   ]
  },
  {
   "cell_type": "code",
   "execution_count": 45,
   "metadata": {},
   "outputs": [
    {
     "name": "stdout",
     "output_type": "stream",
     "text": [
      "r2_score: 0.8390485500575235 \n",
      " mae: 1963.3528962238238 \n",
      " mse: 8151555.026488906 \n",
      " rmse: 2855.092822744806\n"
     ]
    }
   ],
   "source": [
    "eval_metrics(y_test, y_pred)"
   ]
  },
  {
   "cell_type": "code",
   "execution_count": 46,
   "metadata": {
    "collapsed": true
   },
   "outputs": [
    {
     "data": {
      "text/plain": [
       "['__abstractmethods__',\n",
       " '__class__',\n",
       " '__delattr__',\n",
       " '__dict__',\n",
       " '__dir__',\n",
       " '__doc__',\n",
       " '__eq__',\n",
       " '__format__',\n",
       " '__ge__',\n",
       " '__getattribute__',\n",
       " '__getstate__',\n",
       " '__gt__',\n",
       " '__hash__',\n",
       " '__init__',\n",
       " '__init_subclass__',\n",
       " '__le__',\n",
       " '__lt__',\n",
       " '__module__',\n",
       " '__ne__',\n",
       " '__new__',\n",
       " '__reduce__',\n",
       " '__reduce_ex__',\n",
       " '__repr__',\n",
       " '__setattr__',\n",
       " '__setstate__',\n",
       " '__sizeof__',\n",
       " '__str__',\n",
       " '__subclasshook__',\n",
       " '__weakref__',\n",
       " '_abc_impl',\n",
       " '_decision_function',\n",
       " '_estimator_type',\n",
       " '_get_param_names',\n",
       " '_get_tags',\n",
       " '_more_tags',\n",
       " '_preprocess_data',\n",
       " '_set_intercept',\n",
       " 'alpha',\n",
       " 'coef_',\n",
       " 'copy_X',\n",
       " 'fit',\n",
       " 'fit_intercept',\n",
       " 'get_params',\n",
       " 'intercept_',\n",
       " 'max_iter',\n",
       " 'n_iter_',\n",
       " 'normalize',\n",
       " 'predict',\n",
       " 'random_state',\n",
       " 'score',\n",
       " 'set_params',\n",
       " 'solver',\n",
       " 'tol']"
      ]
     },
     "execution_count": 46,
     "metadata": {},
     "output_type": "execute_result"
    }
   ],
   "source": [
    "dir(ridge_model)"
   ]
  },
  {
   "cell_type": "markdown",
   "metadata": {},
   "source": [
    "α (alpha) is the parameter which balances the amount of emphasis given to minimizing RSS vs minimizing sum of square of coefficients. "
   ]
  },
  {
   "cell_type": "code",
   "execution_count": 47,
   "metadata": {
    "scrolled": true
   },
   "outputs": [
    {
     "data": {
      "text/plain": [
       "1.0"
      ]
     },
     "execution_count": 47,
     "metadata": {},
     "output_type": "execute_result"
    }
   ],
   "source": [
    "ridge_model.alpha"
   ]
  },
  {
   "cell_type": "code",
   "execution_count": 48,
   "metadata": {},
   "outputs": [
    {
     "data": {
      "text/plain": [
       "numpy.ndarray"
      ]
     },
     "execution_count": 48,
     "metadata": {},
     "output_type": "execute_result"
    }
   ],
   "source": [
    "type(y_pred)"
   ]
  },
  {
   "cell_type": "code",
   "execution_count": 49,
   "metadata": {},
   "outputs": [
    {
     "data": {
      "text/plain": [
       "2998"
      ]
     },
     "execution_count": 49,
     "metadata": {},
     "output_type": "execute_result"
    }
   ],
   "source": [
    "len(y_pred)"
   ]
  },
  {
   "cell_type": "code",
   "execution_count": 50,
   "metadata": {},
   "outputs": [],
   "source": [
    "# en iyi alpha'yi bulmak icin:\n",
    "alpha_space = np.linspace(0.1, 20, 100)"
   ]
  },
  {
   "cell_type": "code",
   "execution_count": 51,
   "metadata": {
    "scrolled": true
   },
   "outputs": [
    {
     "data": {
      "text/plain": [
       "array([ 0.1       ,  0.3010101 ,  0.5020202 ,  0.7030303 ,  0.9040404 ,\n",
       "        1.10505051,  1.30606061,  1.50707071,  1.70808081,  1.90909091,\n",
       "        2.11010101,  2.31111111,  2.51212121,  2.71313131,  2.91414141,\n",
       "        3.11515152,  3.31616162,  3.51717172,  3.71818182,  3.91919192,\n",
       "        4.12020202,  4.32121212,  4.52222222,  4.72323232,  4.92424242,\n",
       "        5.12525253,  5.32626263,  5.52727273,  5.72828283,  5.92929293,\n",
       "        6.13030303,  6.33131313,  6.53232323,  6.73333333,  6.93434343,\n",
       "        7.13535354,  7.33636364,  7.53737374,  7.73838384,  7.93939394,\n",
       "        8.14040404,  8.34141414,  8.54242424,  8.74343434,  8.94444444,\n",
       "        9.14545455,  9.34646465,  9.54747475,  9.74848485,  9.94949495,\n",
       "       10.15050505, 10.35151515, 10.55252525, 10.75353535, 10.95454545,\n",
       "       11.15555556, 11.35656566, 11.55757576, 11.75858586, 11.95959596,\n",
       "       12.16060606, 12.36161616, 12.56262626, 12.76363636, 12.96464646,\n",
       "       13.16565657, 13.36666667, 13.56767677, 13.76868687, 13.96969697,\n",
       "       14.17070707, 14.37171717, 14.57272727, 14.77373737, 14.97474747,\n",
       "       15.17575758, 15.37676768, 15.57777778, 15.77878788, 15.97979798,\n",
       "       16.18080808, 16.38181818, 16.58282828, 16.78383838, 16.98484848,\n",
       "       17.18585859, 17.38686869, 17.58787879, 17.78888889, 17.98989899,\n",
       "       18.19090909, 18.39191919, 18.59292929, 18.79393939, 18.99494949,\n",
       "       19.1959596 , 19.3969697 , 19.5979798 , 19.7989899 , 20.        ])"
      ]
     },
     "execution_count": 51,
     "metadata": {},
     "output_type": "execute_result"
    }
   ],
   "source": [
    "alpha_space"
   ]
  },
  {
   "cell_type": "code",
   "execution_count": 52,
   "metadata": {},
   "outputs": [
    {
     "data": {
      "text/plain": [
       "RidgeCV(alphas=array([ 0.1       ,  0.3010101 ,  0.5020202 ,  0.7030303 ,  0.9040404 ,\n",
       "        1.10505051,  1.30606061,  1.50707071,  1.70808081,  1.90909091,\n",
       "        2.11010101,  2.31111111,  2.51212121,  2.71313131,  2.91414141,\n",
       "        3.11515152,  3.31616162,  3.51717172,  3.71818182,  3.91919192,\n",
       "        4.12020202,  4.32121212,  4.52222222,  4.72323232,  4.92424242,\n",
       "        5.12525253,  5.32626263,  5.52727273,  5.72828283,  5.92929293,\n",
       "        6.1303030...\n",
       "       15.17575758, 15.37676768, 15.57777778, 15.77878788, 15.97979798,\n",
       "       16.18080808, 16.38181818, 16.58282828, 16.78383838, 16.98484848,\n",
       "       17.18585859, 17.38686869, 17.58787879, 17.78888889, 17.98989899,\n",
       "       18.19090909, 18.39191919, 18.59292929, 18.79393939, 18.99494949,\n",
       "       19.1959596 , 19.3969697 , 19.5979798 , 19.7989899 , 20.        ]),\n",
       "        cv=5, fit_intercept=True, gcv_mode=None, normalize=True, scoring=None,\n",
       "        store_cv_values=False)"
      ]
     },
     "execution_count": 52,
     "metadata": {},
     "output_type": "execute_result"
    }
   ],
   "source": [
    "ridgecv = RidgeCV(alphas = alpha_space, normalize = True, cv = 5) #ridge kendi CV fonksiyonu - alphas icindeki degerleri deneyecek \n",
    "ridgecv.fit(X_train, y_train)"
   ]
  },
  {
   "cell_type": "code",
   "execution_count": 53,
   "metadata": {},
   "outputs": [
    {
     "data": {
      "text/plain": [
       "0.1"
      ]
     },
     "execution_count": 53,
     "metadata": {},
     "output_type": "execute_result"
    }
   ],
   "source": [
    "ridgecv.alpha_  # en iyi alpha degerini verdi - ilk denenen"
   ]
  },
  {
   "cell_type": "markdown",
   "metadata": {},
   "source": [
    "buldugumuz alpha degerini - 0.1- kullanarak tekrar egitecegiz"
   ]
  },
  {
   "cell_type": "code",
   "execution_count": 55,
   "metadata": {},
   "outputs": [],
   "source": [
    "ridge_model = Ridge(alpha = 0.1, normalize = True)\n",
    "ridge_model.fit(X_train, y_train)\n",
    "y_pred = ridge_model.predict(X_test)"
   ]
  },
  {
   "cell_type": "code",
   "execution_count": 56,
   "metadata": {},
   "outputs": [
    {
     "name": "stdout",
     "output_type": "stream",
     "text": [
      "r2_score: 0.8908685496674182 \n",
      " mae: 1663.8811495596701 \n",
      " mse: 5527076.785108295 \n",
      " rmse: 2350.973582392685\n"
     ]
    }
   ],
   "source": [
    "eval_metrics(y_test, y_pred)"
   ]
  },
  {
   "cell_type": "markdown",
   "metadata": {},
   "source": [
    "farkli alpha'lar denenebilir"
   ]
  },
  {
   "cell_type": "code",
   "execution_count": 57,
   "metadata": {},
   "outputs": [],
   "source": [
    "ridge_model = Ridge(alpha = 0.01, normalize = True)\n",
    "ridge_model.fit(X_train, y_train)\n",
    "y_pred = ridge_model.predict(X_test)"
   ]
  },
  {
   "cell_type": "code",
   "execution_count": 58,
   "metadata": {},
   "outputs": [
    {
     "name": "stdout",
     "output_type": "stream",
     "text": [
      "r2_score: 0.8920596063211058 \n",
      " mae: 1668.7977194129394 \n",
      " mse: 5466754.471418854 \n",
      " rmse: 2338.109165847235\n"
     ]
    }
   ],
   "source": [
    "eval_metrics(y_test, y_pred)"
   ]
  },
  {
   "cell_type": "markdown",
   "metadata": {},
   "source": [
    "alpha 0'a yaklastikca iyilesiyor - limitteyiz"
   ]
  },
  {
   "cell_type": "code",
   "execution_count": null,
   "metadata": {},
   "outputs": [],
   "source": []
  },
  {
   "cell_type": "markdown",
   "metadata": {},
   "source": [
    "**Lasso Regression**"
   ]
  },
  {
   "cell_type": "code",
   "execution_count": 59,
   "metadata": {},
   "outputs": [],
   "source": [
    "from sklearn.linear_model import Lasso\n",
    "from sklearn.linear_model import LassoCV"
   ]
  },
  {
   "cell_type": "code",
   "execution_count": 60,
   "metadata": {},
   "outputs": [],
   "source": [
    "lasso_model = Lasso(normalize = True)\n",
    "lasso_model.fit(X_train, y_train)\n",
    "y_pred = lasso_model.predict(X_test)"
   ]
  },
  {
   "cell_type": "code",
   "execution_count": 61,
   "metadata": {},
   "outputs": [
    {
     "name": "stdout",
     "output_type": "stream",
     "text": [
      "r2_score: 0.8840377602740636 \n",
      " mae: 1698.8273169126867 \n",
      " mse: 5873029.279690901 \n",
      " rmse: 2423.4333660513344\n"
     ]
    }
   ],
   "source": [
    "eval_metrics(y_test, y_pred)"
   ]
  },
  {
   "cell_type": "code",
   "execution_count": 62,
   "metadata": {},
   "outputs": [],
   "source": [
    "# Lasso icin de alpha value default 1 - bir optimizasyon yapabiliriz"
   ]
  },
  {
   "cell_type": "code",
   "execution_count": 63,
   "metadata": {},
   "outputs": [
    {
     "data": {
      "text/plain": [
       "LassoCV(alphas=array([ 0.1       ,  0.3010101 ,  0.5020202 ,  0.7030303 ,  0.9040404 ,\n",
       "        1.10505051,  1.30606061,  1.50707071,  1.70808081,  1.90909091,\n",
       "        2.11010101,  2.31111111,  2.51212121,  2.71313131,  2.91414141,\n",
       "        3.11515152,  3.31616162,  3.51717172,  3.71818182,  3.91919192,\n",
       "        4.12020202,  4.32121212,  4.52222222,  4.72323232,  4.92424242,\n",
       "        5.12525253,  5.32626263,  5.52727273,  5.72828283,  5.92929293,\n",
       "        6.1303030...\n",
       "       17.18585859, 17.38686869, 17.58787879, 17.78888889, 17.98989899,\n",
       "       18.19090909, 18.39191919, 18.59292929, 18.79393939, 18.99494949,\n",
       "       19.1959596 , 19.3969697 , 19.5979798 , 19.7989899 , 20.        ]),\n",
       "        copy_X=True, cv=5, eps=0.001, fit_intercept=True, max_iter=1000,\n",
       "        n_alphas=100, n_jobs=None, normalize=True, positive=False,\n",
       "        precompute='auto', random_state=None, selection='cyclic', tol=0.0001,\n",
       "        verbose=False)"
      ]
     },
     "execution_count": 63,
     "metadata": {},
     "output_type": "execute_result"
    }
   ],
   "source": [
    "lassocv = LassoCV(alphas = alpha_space, normalize = True, cv = 5) #lasso kendi CV fonksiyonu - alphas icindeki degerleri deneyecek \n",
    "lassocv.fit(X_train, y_train)"
   ]
  },
  {
   "cell_type": "code",
   "execution_count": 64,
   "metadata": {},
   "outputs": [
    {
     "data": {
      "text/plain": [
       "0.1"
      ]
     },
     "execution_count": 64,
     "metadata": {},
     "output_type": "execute_result"
    }
   ],
   "source": [
    "lassocv.alpha_"
   ]
  },
  {
   "cell_type": "markdown",
   "metadata": {},
   "source": [
    "yine 0.1 bulundu - BTW, still the min value"
   ]
  },
  {
   "cell_type": "code",
   "execution_count": 65,
   "metadata": {},
   "outputs": [],
   "source": [
    "lasso_model = Lasso(alpha = 0.1, normalize = True)\n",
    "lasso_model.fit(X_train, y_train)\n",
    "y_pred = lasso_model.predict(X_test)"
   ]
  },
  {
   "cell_type": "code",
   "execution_count": 66,
   "metadata": {},
   "outputs": [
    {
     "name": "stdout",
     "output_type": "stream",
     "text": [
      "r2_score: 0.8917796626649902 \n",
      " mae: 1668.1568590125223 \n",
      " mse: 5480932.5115543045 \n",
      " rmse: 2341.139148268275\n"
     ]
    }
   ],
   "source": [
    "eval_metrics(y_test, y_pred)"
   ]
  },
  {
   "cell_type": "code",
   "execution_count": 67,
   "metadata": {},
   "outputs": [],
   "source": [
    "lasso_model = Lasso(alpha = 0.01, normalize = True)\n",
    "lasso_model.fit(X_train, y_train)\n",
    "y_pred = lasso_model.predict(X_test)"
   ]
  },
  {
   "cell_type": "code",
   "execution_count": 68,
   "metadata": {},
   "outputs": [
    {
     "name": "stdout",
     "output_type": "stream",
     "text": [
      "r2_score: 0.8918064884399045 \n",
      " mae: 1671.68877048965 \n",
      " mse: 5479573.892042517 \n",
      " rmse: 2340.8489682255276\n"
     ]
    }
   ],
   "source": [
    "eval_metrics(y_test, y_pred)"
   ]
  },
  {
   "cell_type": "markdown",
   "metadata": {},
   "source": [
    "Try without normalizing"
   ]
  },
  {
   "cell_type": "code",
   "execution_count": 69,
   "metadata": {},
   "outputs": [
    {
     "data": {
      "text/plain": [
       "LassoCV(alphas=array([ 0.1       ,  0.3010101 ,  0.5020202 ,  0.7030303 ,  0.9040404 ,\n",
       "        1.10505051,  1.30606061,  1.50707071,  1.70808081,  1.90909091,\n",
       "        2.11010101,  2.31111111,  2.51212121,  2.71313131,  2.91414141,\n",
       "        3.11515152,  3.31616162,  3.51717172,  3.71818182,  3.91919192,\n",
       "        4.12020202,  4.32121212,  4.52222222,  4.72323232,  4.92424242,\n",
       "        5.12525253,  5.32626263,  5.52727273,  5.72828283,  5.92929293,\n",
       "        6.1303030...\n",
       "       17.18585859, 17.38686869, 17.58787879, 17.78888889, 17.98989899,\n",
       "       18.19090909, 18.39191919, 18.59292929, 18.79393939, 18.99494949,\n",
       "       19.1959596 , 19.3969697 , 19.5979798 , 19.7989899 , 20.        ]),\n",
       "        copy_X=True, cv=5, eps=0.001, fit_intercept=True, max_iter=1000,\n",
       "        n_alphas=100, n_jobs=None, normalize=False, positive=False,\n",
       "        precompute='auto', random_state=None, selection='cyclic', tol=0.0001,\n",
       "        verbose=False)"
      ]
     },
     "execution_count": 69,
     "metadata": {},
     "output_type": "execute_result"
    }
   ],
   "source": [
    "lassocv = LassoCV(alphas = alpha_space, normalize = False, cv = 5) #lasso kendi CV fonksiyonu - alphas icindeki degerleri deneyecek \n",
    "lassocv.fit(X_train, y_train)"
   ]
  },
  {
   "cell_type": "code",
   "execution_count": 70,
   "metadata": {},
   "outputs": [
    {
     "data": {
      "text/plain": [
       "1.9090909090909092"
      ]
     },
     "execution_count": 70,
     "metadata": {},
     "output_type": "execute_result"
    }
   ],
   "source": [
    "lassocv.alpha_"
   ]
  },
  {
   "cell_type": "code",
   "execution_count": 71,
   "metadata": {},
   "outputs": [],
   "source": [
    "lasso_model = Lasso(alpha = 1.909, normalize = False)\n",
    "lasso_model.fit(X_train, y_train)\n",
    "y_pred = lasso_model.predict(X_test)"
   ]
  },
  {
   "cell_type": "code",
   "execution_count": 72,
   "metadata": {},
   "outputs": [
    {
     "name": "stdout",
     "output_type": "stream",
     "text": [
      "r2_score: 0.8922276180551226 \n",
      " mae: 1669.6045252797799 \n",
      " mse: 5458245.340898914 \n",
      " rmse: 2336.2887965529676\n"
     ]
    }
   ],
   "source": [
    "eval_metrics(y_test, y_pred)"
   ]
  },
  {
   "cell_type": "markdown",
   "metadata": {},
   "source": [
    "a little better"
   ]
  },
  {
   "cell_type": "markdown",
   "metadata": {},
   "source": [
    "Ridge coefficient'lari 0'a yaklastirir ama silmez"
   ]
  },
  {
   "cell_type": "markdown",
   "metadata": {},
   "source": [
    "Lasso coefficient'lari silebilir  - bu feature'lari bulabilmek icin"
   ]
  },
  {
   "cell_type": "code",
   "execution_count": 74,
   "metadata": {},
   "outputs": [],
   "source": [
    "feature_coef = pd.DataFrame({'features' : X.columns, 'coef' : lasso_model.coef_})"
   ]
  },
  {
   "cell_type": "code",
   "execution_count": 75,
   "metadata": {},
   "outputs": [
    {
     "data": {
      "text/html": [
       "<div>\n",
       "<style scoped>\n",
       "    .dataframe tbody tr th:only-of-type {\n",
       "        vertical-align: middle;\n",
       "    }\n",
       "\n",
       "    .dataframe tbody tr th {\n",
       "        vertical-align: top;\n",
       "    }\n",
       "\n",
       "    .dataframe thead th {\n",
       "        text-align: right;\n",
       "    }\n",
       "</style>\n",
       "<table border=\"1\" class=\"dataframe\">\n",
       "  <thead>\n",
       "    <tr style=\"text-align: right;\">\n",
       "      <th></th>\n",
       "      <th>features</th>\n",
       "      <th>coef</th>\n",
       "    </tr>\n",
       "  </thead>\n",
       "  <tbody>\n",
       "    <tr>\n",
       "      <th>0</th>\n",
       "      <td>displacement</td>\n",
       "      <td>-1.036499</td>\n",
       "    </tr>\n",
       "    <tr>\n",
       "      <th>1</th>\n",
       "      <td>hp</td>\n",
       "      <td>102.004007</td>\n",
       "    </tr>\n",
       "    <tr>\n",
       "      <th>2</th>\n",
       "      <td>km</td>\n",
       "      <td>-0.036668</td>\n",
       "    </tr>\n",
       "    <tr>\n",
       "      <th>3</th>\n",
       "      <td>ss_abs</td>\n",
       "      <td>-15.699341</td>\n",
       "    </tr>\n",
       "    <tr>\n",
       "      <th>4</th>\n",
       "      <td>ss_adaptive_cruise_control</td>\n",
       "      <td>0.000000</td>\n",
       "    </tr>\n",
       "  </tbody>\n",
       "</table>\n",
       "</div>"
      ],
      "text/plain": [
       "                     features        coef\n",
       "0                displacement   -1.036499\n",
       "1                          hp  102.004007\n",
       "2                          km   -0.036668\n",
       "3                      ss_abs  -15.699341\n",
       "4  ss_adaptive_cruise_control    0.000000"
      ]
     },
     "execution_count": 75,
     "metadata": {},
     "output_type": "execute_result"
    }
   ],
   "source": [
    "feature_coef.head()"
   ]
  },
  {
   "cell_type": "code",
   "execution_count": 78,
   "metadata": {},
   "outputs": [
    {
     "data": {
      "text/plain": [
       "(135, 2)"
      ]
     },
     "execution_count": 78,
     "metadata": {},
     "output_type": "execute_result"
    }
   ],
   "source": [
    "feature_coef.shape"
   ]
  },
  {
   "cell_type": "code",
   "execution_count": 76,
   "metadata": {},
   "outputs": [],
   "source": [
    "# ss adaptive cruise control gibi bazi feature'lari 0'lamis"
   ]
  },
  {
   "cell_type": "code",
   "execution_count": 77,
   "metadata": {},
   "outputs": [
    {
     "data": {
      "text/plain": [
       "109"
      ]
     },
     "execution_count": 77,
     "metadata": {},
     "output_type": "execute_result"
    }
   ],
   "source": [
    "significant_features = feature_coef.loc[feature_coef.coef != 0, :]\n",
    "len(significant_features)"
   ]
  },
  {
   "cell_type": "markdown",
   "metadata": {},
   "source": [
    "135 feature 109'a inmis - thanks to Lasso"
   ]
  },
  {
   "cell_type": "code",
   "execution_count": 79,
   "metadata": {},
   "outputs": [
    {
     "data": {
      "text/plain": [
       "(109, 2)"
      ]
     },
     "execution_count": 79,
     "metadata": {},
     "output_type": "execute_result"
    }
   ],
   "source": [
    "significant_features.shape"
   ]
  },
  {
   "cell_type": "code",
   "execution_count": null,
   "metadata": {},
   "outputs": [],
   "source": []
  },
  {
   "cell_type": "code",
   "execution_count": 80,
   "metadata": {},
   "outputs": [
    {
     "name": "stdout",
     "output_type": "stream",
     "text": [
      "r2_score: 0.874866834063786 \n",
      " mae: 1757.4373768685873 \n",
      " mse: 6337500.4582585115 \n",
      " rmse: 2517.4392660516187\n"
     ]
    }
   ],
   "source": [
    "lasso_model = Lasso(alpha = 50, normalize = False)\n",
    "lasso_model.fit(X_train, y_train)\n",
    "y_pred = lasso_model.predict(X_test)\n",
    "eval_metrics(y_test, y_pred)"
   ]
  },
  {
   "cell_type": "code",
   "execution_count": 81,
   "metadata": {},
   "outputs": [
    {
     "data": {
      "text/plain": [
       "42"
      ]
     },
     "execution_count": 81,
     "metadata": {},
     "output_type": "execute_result"
    }
   ],
   "source": [
    "feature_coef = pd.DataFrame({'features' : X.columns, 'coef' : lasso_model.coef_})\n",
    "significant_features = feature_coef.loc[feature_coef.coef != 0, :]\n",
    "len(significant_features)"
   ]
  },
  {
   "cell_type": "markdown",
   "metadata": {},
   "source": [
    "alpha'yi cok arttirdim (50'ye), feature sayisi 50'ye inmesine ragmen r2_score'da dusme fazla degil "
   ]
  },
  {
   "cell_type": "code",
   "execution_count": 83,
   "metadata": {},
   "outputs": [
    {
     "data": {
      "text/html": [
       "<div>\n",
       "<style scoped>\n",
       "    .dataframe tbody tr th:only-of-type {\n",
       "        vertical-align: middle;\n",
       "    }\n",
       "\n",
       "    .dataframe tbody tr th {\n",
       "        vertical-align: top;\n",
       "    }\n",
       "\n",
       "    .dataframe thead th {\n",
       "        text-align: right;\n",
       "    }\n",
       "</style>\n",
       "<table border=\"1\" class=\"dataframe\">\n",
       "  <thead>\n",
       "    <tr style=\"text-align: right;\">\n",
       "      <th></th>\n",
       "      <th>features</th>\n",
       "      <th>coef</th>\n",
       "    </tr>\n",
       "  </thead>\n",
       "  <tbody>\n",
       "    <tr>\n",
       "      <th>99</th>\n",
       "      <td>model_Espace</td>\n",
       "      <td>4564.400983</td>\n",
       "    </tr>\n",
       "    <tr>\n",
       "      <th>90</th>\n",
       "      <td>make_Audi</td>\n",
       "      <td>3058.906037</td>\n",
       "    </tr>\n",
       "    <tr>\n",
       "      <th>130</th>\n",
       "      <td>type_Demonstration</td>\n",
       "      <td>1517.906139</td>\n",
       "    </tr>\n",
       "    <tr>\n",
       "      <th>59</th>\n",
       "      <td>cc_heads_up_display</td>\n",
       "      <td>1512.656699</td>\n",
       "    </tr>\n",
       "    <tr>\n",
       "      <th>22</th>\n",
       "      <td>ss_lane_departure_warning_system</td>\n",
       "      <td>739.336220</td>\n",
       "    </tr>\n",
       "    <tr>\n",
       "      <th>100</th>\n",
       "      <td>model_Insignia</td>\n",
       "      <td>688.665474</td>\n",
       "    </tr>\n",
       "    <tr>\n",
       "      <th>95</th>\n",
       "      <td>model_A3</td>\n",
       "      <td>677.004104</td>\n",
       "    </tr>\n",
       "    <tr>\n",
       "      <th>79</th>\n",
       "      <td>cc_seat_ventilation</td>\n",
       "      <td>632.044184</td>\n",
       "    </tr>\n",
       "    <tr>\n",
       "      <th>21</th>\n",
       "      <td>ss_led_headlights</td>\n",
       "      <td>615.370117</td>\n",
       "    </tr>\n",
       "    <tr>\n",
       "      <th>37</th>\n",
       "      <td>ent_media_digital_radio</td>\n",
       "      <td>532.907444</td>\n",
       "    </tr>\n",
       "    <tr>\n",
       "      <th>132</th>\n",
       "      <td>type_New</td>\n",
       "      <td>464.795449</td>\n",
       "    </tr>\n",
       "    <tr>\n",
       "      <th>73</th>\n",
       "      <td>cc_parking_assist_system_self_steering</td>\n",
       "      <td>457.891595</td>\n",
       "    </tr>\n",
       "    <tr>\n",
       "      <th>51</th>\n",
       "      <td>cc_automatic_climate_control</td>\n",
       "      <td>384.237662</td>\n",
       "    </tr>\n",
       "    <tr>\n",
       "      <th>45</th>\n",
       "      <td>nr_of_doors</td>\n",
       "      <td>280.558322</td>\n",
       "    </tr>\n",
       "    <tr>\n",
       "      <th>57</th>\n",
       "      <td>cc_electrically_adjustable_seats</td>\n",
       "      <td>260.722444</td>\n",
       "    </tr>\n",
       "    <tr>\n",
       "      <th>109</th>\n",
       "      <td>body_Van</td>\n",
       "      <td>259.448999</td>\n",
       "    </tr>\n",
       "    <tr>\n",
       "      <th>69</th>\n",
       "      <td>cc_navigation_system</td>\n",
       "      <td>243.161123</td>\n",
       "    </tr>\n",
       "    <tr>\n",
       "      <th>125</th>\n",
       "      <td>gearing_type_Semi-automatic</td>\n",
       "      <td>232.638971</td>\n",
       "    </tr>\n",
       "    <tr>\n",
       "      <th>71</th>\n",
       "      <td>cc_park_distance_control</td>\n",
       "      <td>210.238767</td>\n",
       "    </tr>\n",
       "    <tr>\n",
       "      <th>1</th>\n",
       "      <td>hp</td>\n",
       "      <td>134.581211</td>\n",
       "    </tr>\n",
       "    <tr>\n",
       "      <th>74</th>\n",
       "      <td>cc_parking_assist_system_sensors_front</td>\n",
       "      <td>99.106938</td>\n",
       "    </tr>\n",
       "    <tr>\n",
       "      <th>126</th>\n",
       "      <td>fuel_diesel</td>\n",
       "      <td>70.098173</td>\n",
       "    </tr>\n",
       "    <tr>\n",
       "      <th>86</th>\n",
       "      <td>ext_alloy_wheels</td>\n",
       "      <td>63.230581</td>\n",
       "    </tr>\n",
       "    <tr>\n",
       "      <th>46</th>\n",
       "      <td>nr_of_seats</td>\n",
       "      <td>2.296223</td>\n",
       "    </tr>\n",
       "    <tr>\n",
       "      <th>2</th>\n",
       "      <td>km</td>\n",
       "      <td>-0.038846</td>\n",
       "    </tr>\n",
       "    <tr>\n",
       "      <th>89</th>\n",
       "      <td>ext_voice_control</td>\n",
       "      <td>-0.591275</td>\n",
       "    </tr>\n",
       "    <tr>\n",
       "      <th>0</th>\n",
       "      <td>displacement</td>\n",
       "      <td>-1.037117</td>\n",
       "    </tr>\n",
       "    <tr>\n",
       "      <th>16</th>\n",
       "      <td>ss_fog_lights</td>\n",
       "      <td>-96.625337</td>\n",
       "    </tr>\n",
       "    <tr>\n",
       "      <th>10</th>\n",
       "      <td>ss_daytime_running_lights</td>\n",
       "      <td>-116.353529</td>\n",
       "    </tr>\n",
       "    <tr>\n",
       "      <th>44</th>\n",
       "      <td>ent_media_usb</td>\n",
       "      <td>-249.516175</td>\n",
       "    </tr>\n",
       "    <tr>\n",
       "      <th>98</th>\n",
       "      <td>model_Corsa</td>\n",
       "      <td>-259.811208</td>\n",
       "    </tr>\n",
       "    <tr>\n",
       "      <th>19</th>\n",
       "      <td>ss_isofix</td>\n",
       "      <td>-318.138389</td>\n",
       "    </tr>\n",
       "    <tr>\n",
       "      <th>96</th>\n",
       "      <td>model_Astra</td>\n",
       "      <td>-368.527939</td>\n",
       "    </tr>\n",
       "    <tr>\n",
       "      <th>134</th>\n",
       "      <td>type_Used</td>\n",
       "      <td>-368.890365</td>\n",
       "    </tr>\n",
       "    <tr>\n",
       "      <th>87</th>\n",
       "      <td>ext_touch_screen</td>\n",
       "      <td>-371.769183</td>\n",
       "    </tr>\n",
       "    <tr>\n",
       "      <th>15</th>\n",
       "      <td>ss_emergency_system</td>\n",
       "      <td>-372.760091</td>\n",
       "    </tr>\n",
       "    <tr>\n",
       "      <th>35</th>\n",
       "      <td>ent_media_bluetooth</td>\n",
       "      <td>-388.067484</td>\n",
       "    </tr>\n",
       "    <tr>\n",
       "      <th>91</th>\n",
       "      <td>make_Opel</td>\n",
       "      <td>-623.054269</td>\n",
       "    </tr>\n",
       "    <tr>\n",
       "      <th>128</th>\n",
       "      <td>fuel_gasoline</td>\n",
       "      <td>-971.339814</td>\n",
       "    </tr>\n",
       "    <tr>\n",
       "      <th>124</th>\n",
       "      <td>gearing_type_Manual</td>\n",
       "      <td>-1498.154025</td>\n",
       "    </tr>\n",
       "    <tr>\n",
       "      <th>34</th>\n",
       "      <td>age</td>\n",
       "      <td>-1613.553598</td>\n",
       "    </tr>\n",
       "    <tr>\n",
       "      <th>97</th>\n",
       "      <td>model_Clio</td>\n",
       "      <td>-1679.159603</td>\n",
       "    </tr>\n",
       "  </tbody>\n",
       "</table>\n",
       "</div>"
      ],
      "text/plain": [
       "                                   features         coef\n",
       "99                             model_Espace  4564.400983\n",
       "90                                make_Audi  3058.906037\n",
       "130                      type_Demonstration  1517.906139\n",
       "59                      cc_heads_up_display  1512.656699\n",
       "22         ss_lane_departure_warning_system   739.336220\n",
       "100                          model_Insignia   688.665474\n",
       "95                                 model_A3   677.004104\n",
       "79                      cc_seat_ventilation   632.044184\n",
       "21                        ss_led_headlights   615.370117\n",
       "37                  ent_media_digital_radio   532.907444\n",
       "132                                type_New   464.795449\n",
       "73   cc_parking_assist_system_self_steering   457.891595\n",
       "51             cc_automatic_climate_control   384.237662\n",
       "45                              nr_of_doors   280.558322\n",
       "57         cc_electrically_adjustable_seats   260.722444\n",
       "109                                body_Van   259.448999\n",
       "69                     cc_navigation_system   243.161123\n",
       "125             gearing_type_Semi-automatic   232.638971\n",
       "71                 cc_park_distance_control   210.238767\n",
       "1                                        hp   134.581211\n",
       "74   cc_parking_assist_system_sensors_front    99.106938\n",
       "126                             fuel_diesel    70.098173\n",
       "86                         ext_alloy_wheels    63.230581\n",
       "46                              nr_of_seats     2.296223\n",
       "2                                        km    -0.038846\n",
       "89                        ext_voice_control    -0.591275\n",
       "0                              displacement    -1.037117\n",
       "16                            ss_fog_lights   -96.625337\n",
       "10                ss_daytime_running_lights  -116.353529\n",
       "44                            ent_media_usb  -249.516175\n",
       "98                              model_Corsa  -259.811208\n",
       "19                                ss_isofix  -318.138389\n",
       "96                              model_Astra  -368.527939\n",
       "134                               type_Used  -368.890365\n",
       "87                         ext_touch_screen  -371.769183\n",
       "15                      ss_emergency_system  -372.760091\n",
       "35                      ent_media_bluetooth  -388.067484\n",
       "91                                make_Opel  -623.054269\n",
       "128                           fuel_gasoline  -971.339814\n",
       "124                     gearing_type_Manual -1498.154025\n",
       "34                                      age -1613.553598\n",
       "97                               model_Clio -1679.159603"
      ]
     },
     "execution_count": 83,
     "metadata": {},
     "output_type": "execute_result"
    }
   ],
   "source": [
    "significant_features.sort_values(by='coef', ascending = False)"
   ]
  },
  {
   "cell_type": "code",
   "execution_count": 82,
   "metadata": {},
   "outputs": [
    {
     "data": {
      "image/png": "[encoded data removed]",
      "text/plain": [
       "<Figure size 500x3600 with 1 Axes>"
      ]
     },
     "metadata": {},
     "output_type": "display_data"
    },
    {
     "data": {
      "text/plain": [
       "<matplotlib.axes._subplots.AxesSubplot at 0x1935d638f48>"
      ]
     },
     "execution_count": 82,
     "metadata": {},
     "output_type": "execute_result"
    }
   ],
   "source": [
    "from yellowbrick.features import RadViz\n",
    "from yellowbrick.model_selection import FeatureImportances\n",
    "# Load the regression dataset\n",
    "# Title case the feature for better display and create the visualizer\n",
    "labels = list(map(lambda s: s.title(), X.columns))\n",
    "viz = FeatureImportances(lasso_model, labels=labels, relative=False)\n",
    "visualizer = RadViz(size=(500, 3600))\n",
    "# Fit and show the feature importances\n",
    "viz.fit(X_train, y_train)\n",
    "viz.show()"
   ]
  },
  {
   "cell_type": "code",
   "execution_count": null,
   "metadata": {},
   "outputs": [],
   "source": []
  },
  {
   "cell_type": "markdown",
   "metadata": {},
   "source": [
    "**Random Forest Regressor**"
   ]
  },
  {
   "cell_type": "code",
   "execution_count": 84,
   "metadata": {},
   "outputs": [],
   "source": [
    "from sklearn.ensemble import RandomForestRegressor"
   ]
  },
  {
   "cell_type": "code",
   "execution_count": 85,
   "metadata": {},
   "outputs": [],
   "source": [
    "rf_reg = RandomForestRegressor()"
   ]
  },
  {
   "cell_type": "code",
   "execution_count": 86,
   "metadata": {},
   "outputs": [
    {
     "data": {
      "text/plain": [
       "RandomForestRegressor(bootstrap=True, ccp_alpha=0.0, criterion='mse',\n",
       "                      max_depth=None, max_features='auto', max_leaf_nodes=None,\n",
       "                      max_samples=None, min_impurity_decrease=0.0,\n",
       "                      min_impurity_split=None, min_samples_leaf=1,\n",
       "                      min_samples_split=2, min_weight_fraction_leaf=0.0,\n",
       "                      n_estimators=100, n_jobs=None, oob_score=False,\n",
       "                      random_state=None, verbose=0, warm_start=False)"
      ]
     },
     "execution_count": 86,
     "metadata": {},
     "output_type": "execute_result"
    }
   ],
   "source": [
    "rf_reg.fit(X_train, y_train)"
   ]
  },
  {
   "cell_type": "code",
   "execution_count": 89,
   "metadata": {},
   "outputs": [],
   "source": [
    "y_pred = rf_reg.predict(X_test)"
   ]
  },
  {
   "cell_type": "code",
   "execution_count": 90,
   "metadata": {},
   "outputs": [
    {
     "name": "stdout",
     "output_type": "stream",
     "text": [
      "r2_score: 0.9549173674934983 \n",
      " mae: 860.4961214706904 \n",
      " mse: 2283257.2166766245 \n",
      " rmse: 1511.0450743365086\n"
     ]
    }
   ],
   "source": [
    "eval_metrics(y_test, y_pred)"
   ]
  },
  {
   "cell_type": "markdown",
   "metadata": {},
   "source": [
    "CV istersek"
   ]
  },
  {
   "cell_type": "code",
   "execution_count": 91,
   "metadata": {},
   "outputs": [
    {
     "data": {
      "text/plain": [
       "0.9499767781509046"
      ]
     },
     "execution_count": 91,
     "metadata": {},
     "output_type": "execute_result"
    }
   ],
   "source": [
    "cv_scores = cross_val_score(estimator = rf_reg, X = X_train, y = y_train, cv =3)\n",
    "cv_scores.mean()"
   ]
  },
  {
   "cell_type": "code",
   "execution_count": null,
   "metadata": {},
   "outputs": [],
   "source": []
  },
  {
   "cell_type": "markdown",
   "metadata": {},
   "source": [
    "**RF Feature Importance**"
   ]
  },
  {
   "cell_type": "code",
   "execution_count": 94,
   "metadata": {},
   "outputs": [
    {
     "data": {
      "text/plain": [
       "array([1.07881871e-02, 4.61904136e-01, 6.92995413e-02, 2.11303393e-04,\n",
       "       7.15592586e-04, 3.56612554e-04, 7.11749849e-04, 4.26931532e-04,\n",
       "       2.95911018e-04, 2.33001489e-04, 3.93501492e-04, 1.33557603e-04,\n",
       "       2.85541078e-04, 3.25162776e-04, 4.46570199e-04, 2.16622404e-04,\n",
       "       5.85781643e-04, 2.19175342e-04, 4.59365796e-04, 8.54169608e-04,\n",
       "       4.47029048e-04, 1.92734531e-03, 5.22042363e-04, 4.57164900e-05,\n",
       "       2.24315156e-04, 1.74311524e-03, 2.05432431e-04, 2.90216726e-04,\n",
       "       4.76795760e-04, 3.58009283e-04, 2.75972798e-04, 5.85453258e-04,\n",
       "       7.59248163e-03, 3.67856867e-04, 1.90317483e-01, 3.64143752e-03,\n",
       "       5.44597821e-04, 5.55446711e-04, 4.94357704e-04, 4.19086584e-04,\n",
       "       3.55054670e-04, 7.98038058e-04, 5.80207212e-04, 3.34636057e-05,\n",
       "       5.67046440e-04, 1.09849453e-03, 2.80440781e-03, 7.56211999e-04,\n",
       "       2.17221939e-04, 9.11701019e-05, 5.62220058e-04, 6.73027349e-04,\n",
       "       8.07166247e-05, 4.15221687e-04, 0.00000000e+00, 4.69686351e-04,\n",
       "       4.60851623e-04, 2.20119577e-03, 4.14551729e-04, 1.43866888e-03,\n",
       "       6.21847599e-04, 3.23513049e-03, 4.63265159e-04, 8.99263751e-06,\n",
       "       4.91923092e-04, 4.23925993e-04, 4.46317394e-04, 3.04009530e-04,\n",
       "       4.33072428e-04, 7.63310333e-04, 6.21456388e-04, 1.78241003e-02,\n",
       "       1.06044231e-03, 5.14203329e-04, 5.32182252e-04, 3.09334568e-04,\n",
       "       5.43434650e-04, 4.33253849e-04, 1.85796446e-03, 6.93358038e-04,\n",
       "       2.93955197e-04, 5.67419884e-04, 6.62579962e-04, 1.96837604e-04,\n",
       "       1.05331424e-04, 1.27680676e-06, 3.81707078e-04, 7.43493222e-04,\n",
       "       2.66325631e-04, 3.86523678e-04, 6.03821350e-02, 1.07619013e-03,\n",
       "       1.62058283e-03, 1.53861223e-03, 4.21495400e-05, 8.91397570e-03,\n",
       "       1.04582873e-02, 1.48222498e-03, 7.62386685e-04, 6.03838569e-02,\n",
       "       6.29850062e-03, 5.49098148e-04, 1.38317164e-04, 1.73097986e-05,\n",
       "       3.64532998e-05, 2.48668906e-04, 5.32590434e-04, 4.11786502e-04,\n",
       "       3.24359716e-05, 7.81239507e-04, 5.26453481e-05, 1.05922688e-03,\n",
       "       3.31642642e-04, 5.49999199e-06, 2.19043266e-04, 3.74715082e-05,\n",
       "       4.79897805e-04, 2.96166065e-04, 2.92212617e-04, 2.79312222e-04,\n",
       "       1.17584702e-05, 7.70737604e-04, 4.49809173e-05, 3.29986574e-03,\n",
       "       1.90031701e-02, 5.90240328e-03, 2.16117810e-04, 1.65797888e-06,\n",
       "       2.41690238e-04, 1.73243357e-04, 7.17712829e-04, 1.51125090e-04,\n",
       "       8.03379546e-04, 3.82743614e-04, 4.18454779e-04])"
      ]
     },
     "execution_count": 94,
     "metadata": {},
     "output_type": "execute_result"
    }
   ],
   "source": [
    "rf_reg.feature_importances_"
   ]
  },
  {
   "cell_type": "code",
   "execution_count": 95,
   "metadata": {},
   "outputs": [],
   "source": [
    "importance = pd.DataFrame({'importance':rf_reg.feature_importances_},\n",
    "                          index = X_train.columns)  # feature_importance array'i DF yaptik"
   ]
  },
  {
   "cell_type": "code",
   "execution_count": 96,
   "metadata": {},
   "outputs": [
    {
     "data": {
      "text/html": [
       "<div>\n",
       "<style scoped>\n",
       "    .dataframe tbody tr th:only-of-type {\n",
       "        vertical-align: middle;\n",
       "    }\n",
       "\n",
       "    .dataframe tbody tr th {\n",
       "        vertical-align: top;\n",
       "    }\n",
       "\n",
       "    .dataframe thead th {\n",
       "        text-align: right;\n",
       "    }\n",
       "</style>\n",
       "<table border=\"1\" class=\"dataframe\">\n",
       "  <thead>\n",
       "    <tr style=\"text-align: right;\">\n",
       "      <th></th>\n",
       "      <th>importance</th>\n",
       "    </tr>\n",
       "  </thead>\n",
       "  <tbody>\n",
       "    <tr>\n",
       "      <th>hp</th>\n",
       "      <td>0.461904</td>\n",
       "    </tr>\n",
       "    <tr>\n",
       "      <th>age</th>\n",
       "      <td>0.190317</td>\n",
       "    </tr>\n",
       "    <tr>\n",
       "      <th>km</th>\n",
       "      <td>0.069300</td>\n",
       "    </tr>\n",
       "    <tr>\n",
       "      <th>model_Espace</th>\n",
       "      <td>0.060384</td>\n",
       "    </tr>\n",
       "    <tr>\n",
       "      <th>make_Audi</th>\n",
       "      <td>0.060382</td>\n",
       "    </tr>\n",
       "    <tr>\n",
       "      <th>gearing_type_Manual</th>\n",
       "      <td>0.019003</td>\n",
       "    </tr>\n",
       "    <tr>\n",
       "      <th>cc_park_distance_control</th>\n",
       "      <td>0.017824</td>\n",
       "    </tr>\n",
       "    <tr>\n",
       "      <th>displacement</th>\n",
       "      <td>0.010788</td>\n",
       "    </tr>\n",
       "    <tr>\n",
       "      <th>model_Astra</th>\n",
       "      <td>0.010458</td>\n",
       "    </tr>\n",
       "    <tr>\n",
       "      <th>model_A3</th>\n",
       "      <td>0.008914</td>\n",
       "    </tr>\n",
       "  </tbody>\n",
       "</table>\n",
       "</div>"
      ],
      "text/plain": [
       "                          importance\n",
       "hp                          0.461904\n",
       "age                         0.190317\n",
       "km                          0.069300\n",
       "model_Espace                0.060384\n",
       "make_Audi                   0.060382\n",
       "gearing_type_Manual         0.019003\n",
       "cc_park_distance_control    0.017824\n",
       "displacement                0.010788\n",
       "model_Astra                 0.010458\n",
       "model_A3                    0.008914"
      ]
     },
     "execution_count": 96,
     "metadata": {},
     "output_type": "execute_result"
    }
   ],
   "source": [
    "importance.sort_values(by=\"importance\", ascending = False).head(10)  #importance'a gore siralayip usttekiler incelenir"
   ]
  },
  {
   "cell_type": "code",
   "execution_count": 134,
   "metadata": {},
   "outputs": [
    {
     "data": {
      "text/html": [
       "<div>\n",
       "<style scoped>\n",
       "    .dataframe tbody tr th:only-of-type {\n",
       "        vertical-align: middle;\n",
       "    }\n",
       "\n",
       "    .dataframe tbody tr th {\n",
       "        vertical-align: top;\n",
       "    }\n",
       "\n",
       "    .dataframe thead th {\n",
       "        text-align: right;\n",
       "    }\n",
       "</style>\n",
       "<table border=\"1\" class=\"dataframe\">\n",
       "  <thead>\n",
       "    <tr style=\"text-align: right;\">\n",
       "      <th></th>\n",
       "      <th>importance</th>\n",
       "    </tr>\n",
       "  </thead>\n",
       "  <tbody>\n",
       "    <tr>\n",
       "      <th>body_Off-Road</th>\n",
       "      <td>0.000036</td>\n",
       "    </tr>\n",
       "    <tr>\n",
       "      <th>ent_media_television</th>\n",
       "      <td>0.000033</td>\n",
       "    </tr>\n",
       "    <tr>\n",
       "      <th>body_Transporter</th>\n",
       "      <td>0.000032</td>\n",
       "    </tr>\n",
       "    <tr>\n",
       "      <th>body_Coupe</th>\n",
       "      <td>0.000017</td>\n",
       "    </tr>\n",
       "    <tr>\n",
       "      <th>body_color_Violet</th>\n",
       "      <td>0.000012</td>\n",
       "    </tr>\n",
       "    <tr>\n",
       "      <th>cc_leather_seats</th>\n",
       "      <td>0.000009</td>\n",
       "    </tr>\n",
       "    <tr>\n",
       "      <th>body_color_Bronze</th>\n",
       "      <td>0.000005</td>\n",
       "    </tr>\n",
       "    <tr>\n",
       "      <th>fuel_electric</th>\n",
       "      <td>0.000002</td>\n",
       "    </tr>\n",
       "    <tr>\n",
       "      <th>cc_windshield</th>\n",
       "      <td>0.000001</td>\n",
       "    </tr>\n",
       "    <tr>\n",
       "      <th>cc_electric_starter</th>\n",
       "      <td>0.000000</td>\n",
       "    </tr>\n",
       "  </tbody>\n",
       "</table>\n",
       "</div>"
      ],
      "text/plain": [
       "                      importance\n",
       "body_Off-Road           0.000036\n",
       "ent_media_television    0.000033\n",
       "body_Transporter        0.000032\n",
       "body_Coupe              0.000017\n",
       "body_color_Violet       0.000012\n",
       "cc_leather_seats        0.000009\n",
       "body_color_Bronze       0.000005\n",
       "fuel_electric           0.000002\n",
       "cc_windshield           0.000001\n",
       "cc_electric_starter     0.000000"
      ]
     },
     "execution_count": 134,
     "metadata": {},
     "output_type": "execute_result"
    }
   ],
   "source": [
    "importance.sort_values(by=\"importance\", ascending = False).tail(10)"
   ]
  },
  {
   "cell_type": "code",
   "execution_count": 97,
   "metadata": {},
   "outputs": [
    {
     "data": {
      "text/html": [
       "<div>\n",
       "<style scoped>\n",
       "    .dataframe tbody tr th:only-of-type {\n",
       "        vertical-align: middle;\n",
       "    }\n",
       "\n",
       "    .dataframe tbody tr th {\n",
       "        vertical-align: top;\n",
       "    }\n",
       "\n",
       "    .dataframe thead th {\n",
       "        text-align: right;\n",
       "    }\n",
       "</style>\n",
       "<table border=\"1\" class=\"dataframe\">\n",
       "  <thead>\n",
       "    <tr style=\"text-align: right;\">\n",
       "      <th></th>\n",
       "      <th>displacement</th>\n",
       "      <th>make</th>\n",
       "      <th>model</th>\n",
       "      <th>hp</th>\n",
       "      <th>km</th>\n",
       "      <th>ss_abs</th>\n",
       "      <th>ss_adaptive_cruise_control</th>\n",
       "      <th>ss_adaptive_headlights</th>\n",
       "      <th>ss_alarm_system</th>\n",
       "      <th>ss_blind_spot_monitor</th>\n",
       "      <th>ss_central_door_lock</th>\n",
       "      <th>ss_central_door_lock_with_remote_control</th>\n",
       "      <th>ss_daytime_running_lights</th>\n",
       "      <th>ss_driver_drowsiness_detection</th>\n",
       "      <th>ss_driver_side_airbag</th>\n",
       "      <th>ss_electronic_stability_control</th>\n",
       "      <th>ss_emergency_brake_assistant</th>\n",
       "      <th>ss_emergency_system</th>\n",
       "      <th>ss_fog_lights</th>\n",
       "      <th>ss_head_airbag</th>\n",
       "      <th>ss_immobilizer</th>\n",
       "      <th>ss_isofix</th>\n",
       "      <th>ss_led_daytime_running_lights</th>\n",
       "      <th>ss_led_headlights</th>\n",
       "      <th>ss_lane_departure_warning_system</th>\n",
       "      <th>ss_night_view_assist</th>\n",
       "      <th>ss_passenger_side_airbag</th>\n",
       "      <th>ss_power_steering</th>\n",
       "      <th>ss_rear_airbag</th>\n",
       "      <th>ss_side_airbag</th>\n",
       "      <th>ss_tire_pressure_monitoring_system</th>\n",
       "      <th>ss_traction_control</th>\n",
       "      <th>ss_traffic_sign_recognition</th>\n",
       "      <th>ss_xenon_headlights</th>\n",
       "      <th>consumption_comb</th>\n",
       "      <th>body</th>\n",
       "      <th>body_color</th>\n",
       "      <th>gearing_type</th>\n",
       "      <th>inspection_new</th>\n",
       "      <th>price</th>\n",
       "      <th>age</th>\n",
       "      <th>ent_media_bluetooth</th>\n",
       "      <th>ent_media_cd_player</th>\n",
       "      <th>ent_media_digital_radio</th>\n",
       "      <th>ent_media_hands_free_equipment</th>\n",
       "      <th>ent_media_mp3</th>\n",
       "      <th>ent_media_on_board_computer</th>\n",
       "      <th>ent_media_radio</th>\n",
       "      <th>ent_media_sound_system</th>\n",
       "      <th>ent_media_television</th>\n",
       "      <th>ent_media_usb</th>\n",
       "      <th>fuel</th>\n",
       "      <th>nr_of_doors</th>\n",
       "      <th>nr_of_seats</th>\n",
       "      <th>type</th>\n",
       "      <th>warranty</th>\n",
       "      <th>cc_air_conditioning</th>\n",
       "      <th>cc_air_suspension</th>\n",
       "      <th>cc_armrest</th>\n",
       "      <th>cc_automatic_climate_control</th>\n",
       "      <th>cc_auxiliary_heating</th>\n",
       "      <th>cc_cruise_control</th>\n",
       "      <th>cc_electric_starter</th>\n",
       "      <th>cc_electric_tailgate</th>\n",
       "      <th>cc_electrical_side_mirrors</th>\n",
       "      <th>cc_electrically_adjustable_seats</th>\n",
       "      <th>cc_electrically_heated_windshield</th>\n",
       "      <th>cc_heads_up_display</th>\n",
       "      <th>cc_heated_steering_wheel</th>\n",
       "      <th>cc_hill_holder</th>\n",
       "      <th>cc_keyless_central_door_lock</th>\n",
       "      <th>cc_leather_seats</th>\n",
       "      <th>cc_leather_steering_wheel</th>\n",
       "      <th>cc_light_sensor</th>\n",
       "      <th>cc_lumbar_support</th>\n",
       "      <th>cc_massage_seats</th>\n",
       "      <th>cc_multi_function_steering_wheel</th>\n",
       "      <th>cc_navigation_system</th>\n",
       "      <th>cc_panorama_roof</th>\n",
       "      <th>cc_park_distance_control</th>\n",
       "      <th>cc_parking_assist_system_camera</th>\n",
       "      <th>cc_parking_assist_system_self_steering</th>\n",
       "      <th>cc_parking_assist_system_sensors_front</th>\n",
       "      <th>cc_parking_assist_system_sensors_rear</th>\n",
       "      <th>cc_power_windows</th>\n",
       "      <th>cc_rain_sensor</th>\n",
       "      <th>cc_seat_heating</th>\n",
       "      <th>cc_seat_ventilation</th>\n",
       "      <th>cc_split_rear_seats</th>\n",
       "      <th>cc_start_stop_system</th>\n",
       "      <th>cc_sunroof</th>\n",
       "      <th>cc_tinted_windows</th>\n",
       "      <th>cc_wind_deflector</th>\n",
       "      <th>cc_windshield</th>\n",
       "      <th>ext_alloy_wheels</th>\n",
       "      <th>ext_touch_screen</th>\n",
       "      <th>ext_trailer_hitch</th>\n",
       "      <th>ext_voice_control</th>\n",
       "    </tr>\n",
       "  </thead>\n",
       "  <tbody>\n",
       "    <tr>\n",
       "      <th>0</th>\n",
       "      <td>1422.0</td>\n",
       "      <td>Audi</td>\n",
       "      <td>A1</td>\n",
       "      <td>66.0</td>\n",
       "      <td>56013</td>\n",
       "      <td>1.0</td>\n",
       "      <td>0.0</td>\n",
       "      <td>0.0</td>\n",
       "      <td>0.0</td>\n",
       "      <td>0.0</td>\n",
       "      <td>1.0</td>\n",
       "      <td>0.0</td>\n",
       "      <td>1.0</td>\n",
       "      <td>0.0</td>\n",
       "      <td>1.0</td>\n",
       "      <td>1.0</td>\n",
       "      <td>0.0</td>\n",
       "      <td>0.0</td>\n",
       "      <td>1.0</td>\n",
       "      <td>0.0</td>\n",
       "      <td>1.0</td>\n",
       "      <td>1.0</td>\n",
       "      <td>0.0</td>\n",
       "      <td>0.0</td>\n",
       "      <td>0.0</td>\n",
       "      <td>0.0</td>\n",
       "      <td>1.0</td>\n",
       "      <td>1.0</td>\n",
       "      <td>0.0</td>\n",
       "      <td>1.0</td>\n",
       "      <td>1.0</td>\n",
       "      <td>1.0</td>\n",
       "      <td>0.0</td>\n",
       "      <td>1.0</td>\n",
       "      <td>3.8</td>\n",
       "      <td>Sedans</td>\n",
       "      <td>Black</td>\n",
       "      <td>Automatic</td>\n",
       "      <td>1</td>\n",
       "      <td>15770</td>\n",
       "      <td>3</td>\n",
       "      <td>1.0</td>\n",
       "      <td>0.0</td>\n",
       "      <td>0.0</td>\n",
       "      <td>1.0</td>\n",
       "      <td>0.0</td>\n",
       "      <td>1.0</td>\n",
       "      <td>1.0</td>\n",
       "      <td>0.0</td>\n",
       "      <td>0.0</td>\n",
       "      <td>0.0</td>\n",
       "      <td>diesel</td>\n",
       "      <td>5.0</td>\n",
       "      <td>5.0</td>\n",
       "      <td>Used</td>\n",
       "      <td>1</td>\n",
       "      <td>1.0</td>\n",
       "      <td>0.0</td>\n",
       "      <td>1.0</td>\n",
       "      <td>1.0</td>\n",
       "      <td>0.0</td>\n",
       "      <td>1.0</td>\n",
       "      <td>0.0</td>\n",
       "      <td>0.0</td>\n",
       "      <td>1.0</td>\n",
       "      <td>0.0</td>\n",
       "      <td>0.0</td>\n",
       "      <td>0.0</td>\n",
       "      <td>0.0</td>\n",
       "      <td>1.0</td>\n",
       "      <td>0.0</td>\n",
       "      <td>0.0</td>\n",
       "      <td>1.0</td>\n",
       "      <td>1.0</td>\n",
       "      <td>0.0</td>\n",
       "      <td>0.0</td>\n",
       "      <td>1.0</td>\n",
       "      <td>1.0</td>\n",
       "      <td>0.0</td>\n",
       "      <td>1.0</td>\n",
       "      <td>0.0</td>\n",
       "      <td>0.0</td>\n",
       "      <td>0.0</td>\n",
       "      <td>1.0</td>\n",
       "      <td>1.0</td>\n",
       "      <td>1.0</td>\n",
       "      <td>1.0</td>\n",
       "      <td>0.0</td>\n",
       "      <td>0.0</td>\n",
       "      <td>1.0</td>\n",
       "      <td>0.0</td>\n",
       "      <td>0.0</td>\n",
       "      <td>0.0</td>\n",
       "      <td>0.0</td>\n",
       "      <td>1.0</td>\n",
       "      <td>0.0</td>\n",
       "      <td>0.0</td>\n",
       "      <td>1.0</td>\n",
       "    </tr>\n",
       "    <tr>\n",
       "      <th>1</th>\n",
       "      <td>1798.0</td>\n",
       "      <td>Audi</td>\n",
       "      <td>A1</td>\n",
       "      <td>141.0</td>\n",
       "      <td>80000</td>\n",
       "      <td>1.0</td>\n",
       "      <td>0.0</td>\n",
       "      <td>0.0</td>\n",
       "      <td>0.0</td>\n",
       "      <td>0.0</td>\n",
       "      <td>1.0</td>\n",
       "      <td>1.0</td>\n",
       "      <td>1.0</td>\n",
       "      <td>0.0</td>\n",
       "      <td>1.0</td>\n",
       "      <td>1.0</td>\n",
       "      <td>0.0</td>\n",
       "      <td>0.0</td>\n",
       "      <td>0.0</td>\n",
       "      <td>1.0</td>\n",
       "      <td>1.0</td>\n",
       "      <td>1.0</td>\n",
       "      <td>0.0</td>\n",
       "      <td>0.0</td>\n",
       "      <td>0.0</td>\n",
       "      <td>0.0</td>\n",
       "      <td>1.0</td>\n",
       "      <td>1.0</td>\n",
       "      <td>0.0</td>\n",
       "      <td>1.0</td>\n",
       "      <td>1.0</td>\n",
       "      <td>1.0</td>\n",
       "      <td>0.0</td>\n",
       "      <td>1.0</td>\n",
       "      <td>5.6</td>\n",
       "      <td>Sedans</td>\n",
       "      <td>Red</td>\n",
       "      <td>Automatic</td>\n",
       "      <td>0</td>\n",
       "      <td>14500</td>\n",
       "      <td>2</td>\n",
       "      <td>1.0</td>\n",
       "      <td>0.0</td>\n",
       "      <td>0.0</td>\n",
       "      <td>1.0</td>\n",
       "      <td>0.0</td>\n",
       "      <td>1.0</td>\n",
       "      <td>1.0</td>\n",
       "      <td>1.0</td>\n",
       "      <td>0.0</td>\n",
       "      <td>0.0</td>\n",
       "      <td>gasoline</td>\n",
       "      <td>3.0</td>\n",
       "      <td>4.0</td>\n",
       "      <td>Used</td>\n",
       "      <td>0</td>\n",
       "      <td>1.0</td>\n",
       "      <td>0.0</td>\n",
       "      <td>0.0</td>\n",
       "      <td>1.0</td>\n",
       "      <td>0.0</td>\n",
       "      <td>0.0</td>\n",
       "      <td>0.0</td>\n",
       "      <td>0.0</td>\n",
       "      <td>0.0</td>\n",
       "      <td>0.0</td>\n",
       "      <td>0.0</td>\n",
       "      <td>0.0</td>\n",
       "      <td>0.0</td>\n",
       "      <td>1.0</td>\n",
       "      <td>0.0</td>\n",
       "      <td>0.0</td>\n",
       "      <td>1.0</td>\n",
       "      <td>0.0</td>\n",
       "      <td>1.0</td>\n",
       "      <td>0.0</td>\n",
       "      <td>0.0</td>\n",
       "      <td>0.0</td>\n",
       "      <td>0.0</td>\n",
       "      <td>0.0</td>\n",
       "      <td>0.0</td>\n",
       "      <td>0.0</td>\n",
       "      <td>0.0</td>\n",
       "      <td>1.0</td>\n",
       "      <td>1.0</td>\n",
       "      <td>0.0</td>\n",
       "      <td>0.0</td>\n",
       "      <td>0.0</td>\n",
       "      <td>0.0</td>\n",
       "      <td>1.0</td>\n",
       "      <td>0.0</td>\n",
       "      <td>1.0</td>\n",
       "      <td>0.0</td>\n",
       "      <td>0.0</td>\n",
       "      <td>1.0</td>\n",
       "      <td>0.0</td>\n",
       "      <td>0.0</td>\n",
       "      <td>1.0</td>\n",
       "    </tr>\n",
       "    <tr>\n",
       "      <th>2</th>\n",
       "      <td>1598.0</td>\n",
       "      <td>Audi</td>\n",
       "      <td>A1</td>\n",
       "      <td>85.0</td>\n",
       "      <td>83450</td>\n",
       "      <td>1.0</td>\n",
       "      <td>0.0</td>\n",
       "      <td>0.0</td>\n",
       "      <td>0.0</td>\n",
       "      <td>0.0</td>\n",
       "      <td>1.0</td>\n",
       "      <td>0.0</td>\n",
       "      <td>1.0</td>\n",
       "      <td>0.0</td>\n",
       "      <td>1.0</td>\n",
       "      <td>1.0</td>\n",
       "      <td>0.0</td>\n",
       "      <td>0.0</td>\n",
       "      <td>0.0</td>\n",
       "      <td>0.0</td>\n",
       "      <td>1.0</td>\n",
       "      <td>1.0</td>\n",
       "      <td>0.0</td>\n",
       "      <td>0.0</td>\n",
       "      <td>0.0</td>\n",
       "      <td>0.0</td>\n",
       "      <td>1.0</td>\n",
       "      <td>1.0</td>\n",
       "      <td>0.0</td>\n",
       "      <td>1.0</td>\n",
       "      <td>1.0</td>\n",
       "      <td>1.0</td>\n",
       "      <td>0.0</td>\n",
       "      <td>0.0</td>\n",
       "      <td>3.8</td>\n",
       "      <td>Sedans</td>\n",
       "      <td>Black</td>\n",
       "      <td>Automatic</td>\n",
       "      <td>0</td>\n",
       "      <td>14640</td>\n",
       "      <td>3</td>\n",
       "      <td>0.0</td>\n",
       "      <td>0.0</td>\n",
       "      <td>0.0</td>\n",
       "      <td>0.0</td>\n",
       "      <td>1.0</td>\n",
       "      <td>1.0</td>\n",
       "      <td>0.0</td>\n",
       "      <td>0.0</td>\n",
       "      <td>0.0</td>\n",
       "      <td>0.0</td>\n",
       "      <td>diesel</td>\n",
       "      <td>4.0</td>\n",
       "      <td>4.0</td>\n",
       "      <td>Used</td>\n",
       "      <td>1</td>\n",
       "      <td>1.0</td>\n",
       "      <td>0.0</td>\n",
       "      <td>0.0</td>\n",
       "      <td>0.0</td>\n",
       "      <td>0.0</td>\n",
       "      <td>1.0</td>\n",
       "      <td>0.0</td>\n",
       "      <td>0.0</td>\n",
       "      <td>1.0</td>\n",
       "      <td>0.0</td>\n",
       "      <td>0.0</td>\n",
       "      <td>0.0</td>\n",
       "      <td>0.0</td>\n",
       "      <td>1.0</td>\n",
       "      <td>0.0</td>\n",
       "      <td>0.0</td>\n",
       "      <td>1.0</td>\n",
       "      <td>0.0</td>\n",
       "      <td>0.0</td>\n",
       "      <td>0.0</td>\n",
       "      <td>1.0</td>\n",
       "      <td>1.0</td>\n",
       "      <td>0.0</td>\n",
       "      <td>1.0</td>\n",
       "      <td>0.0</td>\n",
       "      <td>0.0</td>\n",
       "      <td>1.0</td>\n",
       "      <td>1.0</td>\n",
       "      <td>1.0</td>\n",
       "      <td>0.0</td>\n",
       "      <td>1.0</td>\n",
       "      <td>0.0</td>\n",
       "      <td>0.0</td>\n",
       "      <td>1.0</td>\n",
       "      <td>0.0</td>\n",
       "      <td>0.0</td>\n",
       "      <td>0.0</td>\n",
       "      <td>0.0</td>\n",
       "      <td>1.0</td>\n",
       "      <td>0.0</td>\n",
       "      <td>0.0</td>\n",
       "      <td>1.0</td>\n",
       "    </tr>\n",
       "  </tbody>\n",
       "</table>\n",
       "</div>"
      ],
      "text/plain": [
       "   displacement  make model     hp     km  ss_abs  ss_adaptive_cruise_control  \\\n",
       "0        1422.0  Audi    A1   66.0  56013     1.0                         0.0   \n",
       "1        1798.0  Audi    A1  141.0  80000     1.0                         0.0   \n",
       "2        1598.0  Audi    A1   85.0  83450     1.0                         0.0   \n",
       "\n",
       "   ss_adaptive_headlights  ss_alarm_system  ss_blind_spot_monitor  \\\n",
       "0                     0.0              0.0                    0.0   \n",
       "1                     0.0              0.0                    0.0   \n",
       "2                     0.0              0.0                    0.0   \n",
       "\n",
       "   ss_central_door_lock  ss_central_door_lock_with_remote_control  \\\n",
       "0                   1.0                                       0.0   \n",
       "1                   1.0                                       1.0   \n",
       "2                   1.0                                       0.0   \n",
       "\n",
       "   ss_daytime_running_lights  ss_driver_drowsiness_detection  \\\n",
       "0                        1.0                             0.0   \n",
       "1                        1.0                             0.0   \n",
       "2                        1.0                             0.0   \n",
       "\n",
       "   ss_driver_side_airbag  ss_electronic_stability_control  \\\n",
       "0                    1.0                              1.0   \n",
       "1                    1.0                              1.0   \n",
       "2                    1.0                              1.0   \n",
       "\n",
       "   ss_emergency_brake_assistant  ss_emergency_system  ss_fog_lights  \\\n",
       "0                           0.0                  0.0            1.0   \n",
       "1                           0.0                  0.0            0.0   \n",
       "2                           0.0                  0.0            0.0   \n",
       "\n",
       "   ss_head_airbag  ss_immobilizer  ss_isofix  ss_led_daytime_running_lights  \\\n",
       "0             0.0             1.0        1.0                            0.0   \n",
       "1             1.0             1.0        1.0                            0.0   \n",
       "2             0.0             1.0        1.0                            0.0   \n",
       "\n",
       "   ss_led_headlights  ss_lane_departure_warning_system  ss_night_view_assist  \\\n",
       "0                0.0                               0.0                   0.0   \n",
       "1                0.0                               0.0                   0.0   \n",
       "2                0.0                               0.0                   0.0   \n",
       "\n",
       "   ss_passenger_side_airbag  ss_power_steering  ss_rear_airbag  \\\n",
       "0                       1.0                1.0             0.0   \n",
       "1                       1.0                1.0             0.0   \n",
       "2                       1.0                1.0             0.0   \n",
       "\n",
       "   ss_side_airbag  ss_tire_pressure_monitoring_system  ss_traction_control  \\\n",
       "0             1.0                                 1.0                  1.0   \n",
       "1             1.0                                 1.0                  1.0   \n",
       "2             1.0                                 1.0                  1.0   \n",
       "\n",
       "   ss_traffic_sign_recognition  ss_xenon_headlights  consumption_comb    body  \\\n",
       "0                          0.0                  1.0               3.8  Sedans   \n",
       "1                          0.0                  1.0               5.6  Sedans   \n",
       "2                          0.0                  0.0               3.8  Sedans   \n",
       "\n",
       "  body_color gearing_type  inspection_new  price  age  ent_media_bluetooth  \\\n",
       "0      Black    Automatic               1  15770    3                  1.0   \n",
       "1        Red    Automatic               0  14500    2                  1.0   \n",
       "2      Black    Automatic               0  14640    3                  0.0   \n",
       "\n",
       "   ent_media_cd_player  ent_media_digital_radio  \\\n",
       "0                  0.0                      0.0   \n",
       "1                  0.0                      0.0   \n",
       "2                  0.0                      0.0   \n",
       "\n",
       "   ent_media_hands_free_equipment  ent_media_mp3  ent_media_on_board_computer  \\\n",
       "0                             1.0            0.0                          1.0   \n",
       "1                             1.0            0.0                          1.0   \n",
       "2                             0.0            1.0                          1.0   \n",
       "\n",
       "   ent_media_radio  ent_media_sound_system  ent_media_television  \\\n",
       "0              1.0                     0.0                   0.0   \n",
       "1              1.0                     1.0                   0.0   \n",
       "2              0.0                     0.0                   0.0   \n",
       "\n",
       "   ent_media_usb      fuel  nr_of_doors  nr_of_seats  type  warranty  \\\n",
       "0            0.0    diesel          5.0          5.0  Used         1   \n",
       "1            0.0  gasoline          3.0          4.0  Used         0   \n",
       "2            0.0    diesel          4.0          4.0  Used         1   \n",
       "\n",
       "   cc_air_conditioning  cc_air_suspension  cc_armrest  \\\n",
       "0                  1.0                0.0         1.0   \n",
       "1                  1.0                0.0         0.0   \n",
       "2                  1.0                0.0         0.0   \n",
       "\n",
       "   cc_automatic_climate_control  cc_auxiliary_heating  cc_cruise_control  \\\n",
       "0                           1.0                   0.0                1.0   \n",
       "1                           1.0                   0.0                0.0   \n",
       "2                           0.0                   0.0                1.0   \n",
       "\n",
       "   cc_electric_starter  cc_electric_tailgate  cc_electrical_side_mirrors  \\\n",
       "0                  0.0                   0.0                         1.0   \n",
       "1                  0.0                   0.0                         0.0   \n",
       "2                  0.0                   0.0                         1.0   \n",
       "\n",
       "   cc_electrically_adjustable_seats  cc_electrically_heated_windshield  \\\n",
       "0                               0.0                                0.0   \n",
       "1                               0.0                                0.0   \n",
       "2                               0.0                                0.0   \n",
       "\n",
       "   cc_heads_up_display  cc_heated_steering_wheel  cc_hill_holder  \\\n",
       "0                  0.0                       0.0             1.0   \n",
       "1                  0.0                       0.0             1.0   \n",
       "2                  0.0                       0.0             1.0   \n",
       "\n",
       "   cc_keyless_central_door_lock  cc_leather_seats  cc_leather_steering_wheel  \\\n",
       "0                           0.0               0.0                        1.0   \n",
       "1                           0.0               0.0                        1.0   \n",
       "2                           0.0               0.0                        1.0   \n",
       "\n",
       "   cc_light_sensor  cc_lumbar_support  cc_massage_seats  \\\n",
       "0              1.0                0.0               0.0   \n",
       "1              0.0                1.0               0.0   \n",
       "2              0.0                0.0               0.0   \n",
       "\n",
       "   cc_multi_function_steering_wheel  cc_navigation_system  cc_panorama_roof  \\\n",
       "0                               1.0                   1.0               0.0   \n",
       "1                               0.0                   0.0               0.0   \n",
       "2                               1.0                   1.0               0.0   \n",
       "\n",
       "   cc_park_distance_control  cc_parking_assist_system_camera  \\\n",
       "0                       1.0                              0.0   \n",
       "1                       0.0                              0.0   \n",
       "2                       1.0                              0.0   \n",
       "\n",
       "   cc_parking_assist_system_self_steering  \\\n",
       "0                                     0.0   \n",
       "1                                     0.0   \n",
       "2                                     0.0   \n",
       "\n",
       "   cc_parking_assist_system_sensors_front  \\\n",
       "0                                     0.0   \n",
       "1                                     0.0   \n",
       "2                                     1.0   \n",
       "\n",
       "   cc_parking_assist_system_sensors_rear  cc_power_windows  cc_rain_sensor  \\\n",
       "0                                    1.0               1.0             1.0   \n",
       "1                                    1.0               1.0             0.0   \n",
       "2                                    1.0               1.0             0.0   \n",
       "\n",
       "   cc_seat_heating  cc_seat_ventilation  cc_split_rear_seats  \\\n",
       "0              1.0                  0.0                  0.0   \n",
       "1              0.0                  0.0                  0.0   \n",
       "2              1.0                  0.0                  0.0   \n",
       "\n",
       "   cc_start_stop_system  cc_sunroof  cc_tinted_windows  cc_wind_deflector  \\\n",
       "0                   1.0         0.0                0.0                0.0   \n",
       "1                   1.0         0.0                1.0                0.0   \n",
       "2                   1.0         0.0                0.0                0.0   \n",
       "\n",
       "   cc_windshield  ext_alloy_wheels  ext_touch_screen  ext_trailer_hitch  \\\n",
       "0            0.0               1.0               0.0                0.0   \n",
       "1            0.0               1.0               0.0                0.0   \n",
       "2            0.0               1.0               0.0                0.0   \n",
       "\n",
       "   ext_voice_control  \n",
       "0                1.0  \n",
       "1                1.0  \n",
       "2                1.0  "
      ]
     },
     "execution_count": 97,
     "metadata": {},
     "output_type": "execute_result"
    }
   ],
   "source": [
    "df2.head(3) # 4 onemli parametre get_dummies yapilmamis durumda bir DF"
   ]
  },
  {
   "cell_type": "code",
   "execution_count": 98,
   "metadata": {},
   "outputs": [
    {
     "data": {
      "text/plain": [
       "(14994, 98)"
      ]
     },
     "execution_count": 98,
     "metadata": {},
     "output_type": "execute_result"
    }
   ],
   "source": [
    "df2.shape"
   ]
  },
  {
   "cell_type": "code",
   "execution_count": null,
   "metadata": {},
   "outputs": [],
   "source": []
  },
  {
   "cell_type": "markdown",
   "metadata": {},
   "source": [
    "**Feature Selection with RF**"
   ]
  },
  {
   "cell_type": "code",
   "execution_count": 99,
   "metadata": {},
   "outputs": [],
   "source": [
    "new_list = ['age', 'model', 'hp', 'km']  #feature selection olarak bu 4 parametre secildi - importance'a gore"
   ]
  },
  {
   "cell_type": "code",
   "execution_count": 101,
   "metadata": {},
   "outputs": [],
   "source": [
    "X = df2[new_list]\n",
    "y = df2['price']\n",
    "X = pd.get_dummies(X)"
   ]
  },
  {
   "cell_type": "code",
   "execution_count": 102,
   "metadata": {},
   "outputs": [],
   "source": []
  },
  {
   "cell_type": "markdown",
   "metadata": {},
   "source": [
    "df kullanamyiz cunku get_dummies yapilmis - bize model'in normal hali lazim"
   ]
  },
  {
   "cell_type": "code",
   "execution_count": 103,
   "metadata": {},
   "outputs": [
    {
     "data": {
      "text/plain": [
       "(14994, 11)"
      ]
     },
     "execution_count": 103,
     "metadata": {},
     "output_type": "execute_result"
    }
   ],
   "source": [
    "X.shape # 4 column 11'e cikti"
   ]
  },
  {
   "cell_type": "code",
   "execution_count": 104,
   "metadata": {},
   "outputs": [],
   "source": [
    "X_train, X_test, y_train, y_test = train_test_split(X, y, test_size = 0.2, random_state = 42)"
   ]
  },
  {
   "cell_type": "code",
   "execution_count": null,
   "metadata": {},
   "outputs": [],
   "source": []
  },
  {
   "cell_type": "code",
   "execution_count": 105,
   "metadata": {},
   "outputs": [],
   "source": [
    "rf_reg = RandomForestRegressor()"
   ]
  },
  {
   "cell_type": "code",
   "execution_count": 106,
   "metadata": {},
   "outputs": [
    {
     "data": {
      "text/plain": [
       "RandomForestRegressor(bootstrap=True, ccp_alpha=0.0, criterion='mse',\n",
       "                      max_depth=None, max_features='auto', max_leaf_nodes=None,\n",
       "                      max_samples=None, min_impurity_decrease=0.0,\n",
       "                      min_impurity_split=None, min_samples_leaf=1,\n",
       "                      min_samples_split=2, min_weight_fraction_leaf=0.0,\n",
       "                      n_estimators=100, n_jobs=None, oob_score=False,\n",
       "                      random_state=None, verbose=0, warm_start=False)"
      ]
     },
     "execution_count": 106,
     "metadata": {},
     "output_type": "execute_result"
    }
   ],
   "source": [
    "rf_reg.fit(X_train, y_train)"
   ]
  },
  {
   "cell_type": "code",
   "execution_count": 107,
   "metadata": {},
   "outputs": [],
   "source": [
    "y_pred = rf_reg.predict(X_test)"
   ]
  },
  {
   "cell_type": "code",
   "execution_count": 108,
   "metadata": {},
   "outputs": [
    {
     "name": "stdout",
     "output_type": "stream",
     "text": [
      "r2_score: 0.900269913538237 \n",
      " mae: 1461.1172181819084 \n",
      " mse: 5372484.185354668 \n",
      " rmse: 2317.8619858297575\n"
     ]
    }
   ],
   "source": [
    "eval_metrics(y_test, y_pred)  # sadece 4 feature'la (get_dummies sonrasi 11 adet) %90'i gectik"
   ]
  },
  {
   "cell_type": "code",
   "execution_count": null,
   "metadata": {},
   "outputs": [],
   "source": []
  },
  {
   "cell_type": "markdown",
   "metadata": {},
   "source": [
    "CV yapalim"
   ]
  },
  {
   "cell_type": "code",
   "execution_count": 111,
   "metadata": {},
   "outputs": [
    {
     "data": {
      "text/plain": [
       "0.8932428971635129"
      ]
     },
     "execution_count": 111,
     "metadata": {},
     "output_type": "execute_result"
    }
   ],
   "source": [
    "accuraries = cross_val_score(estimator=rf_reg, X=X_train, y=y_train, cv=10)\n",
    "accuraries.mean()"
   ]
  },
  {
   "cell_type": "code",
   "execution_count": null,
   "metadata": {},
   "outputs": [],
   "source": []
  },
  {
   "cell_type": "markdown",
   "metadata": {},
   "source": [
    "**RF Model Tuning**"
   ]
  },
  {
   "cell_type": "code",
   "execution_count": 112,
   "metadata": {},
   "outputs": [],
   "source": [
    "rf_params = {\"n_estimators\":[50, 100, 300],\n",
    "              \"max_depth\":[3,5,7],\n",
    "              \"max_features\": [2,4,6,8],\n",
    "              \"min_samples_split\": [2,4,6]}"
   ]
  },
  {
   "cell_type": "code",
   "execution_count": 113,
   "metadata": {},
   "outputs": [
    {
     "name": "stdout",
     "output_type": "stream",
     "text": [
      "Fitting 5 folds for each of 108 candidates, totalling 540 fits\n"
     ]
    },
    {
     "name": "stderr",
     "output_type": "stream",
     "text": [
      "[Parallel(n_jobs=-1)]: Using backend LokyBackend with 12 concurrent workers.\n",
      "[Parallel(n_jobs=-1)]: Done  17 tasks      | elapsed:    7.2s\n",
      "[Parallel(n_jobs=-1)]: Done 138 tasks      | elapsed:   25.7s\n",
      "[Parallel(n_jobs=-1)]: Done 341 tasks      | elapsed:  1.1min\n",
      "[Parallel(n_jobs=-1)]: Done 540 out of 540 | elapsed:  1.9min finished\n"
     ]
    }
   ],
   "source": [
    "rf_cv_model = GridSearchCV(rf_reg, rf_params, cv = 5, n_jobs = -1, verbose = 2).fit(X_train, y_train)"
   ]
  },
  {
   "cell_type": "code",
   "execution_count": 115,
   "metadata": {},
   "outputs": [
    {
     "data": {
      "text/plain": [
       "{'max_depth': 7,\n",
       " 'max_features': 6,\n",
       " 'min_samples_split': 4,\n",
       " 'n_estimators': 100}"
      ]
     },
     "execution_count": 115,
     "metadata": {},
     "output_type": "execute_result"
    }
   ],
   "source": [
    "rf_cv_model.best_params_"
   ]
  },
  {
   "cell_type": "code",
   "execution_count": 116,
   "metadata": {},
   "outputs": [
    {
     "data": {
      "text/plain": [
       "RandomForestRegressor(bootstrap=True, ccp_alpha=0.0, criterion='mse',\n",
       "                      max_depth=7, max_features=6, max_leaf_nodes=None,\n",
       "                      max_samples=None, min_impurity_decrease=0.0,\n",
       "                      min_impurity_split=None, min_samples_leaf=1,\n",
       "                      min_samples_split=4, min_weight_fraction_leaf=0.0,\n",
       "                      n_estimators=100, n_jobs=None, oob_score=False,\n",
       "                      random_state=None, verbose=0, warm_start=False)"
      ]
     },
     "execution_count": 116,
     "metadata": {},
     "output_type": "execute_result"
    }
   ],
   "source": [
    "rf_tuned = RandomForestRegressor(max_depth = 7,\n",
    "                                max_features = 6,\n",
    "                                min_samples_split = 4,\n",
    "                                 n_estimators = 100)\n",
    "rf_tuned.fit(X_train, y_train)"
   ]
  },
  {
   "cell_type": "code",
   "execution_count": 117,
   "metadata": {},
   "outputs": [
    {
     "name": "stdout",
     "output_type": "stream",
     "text": [
      "r2_score: 0.8979307872651251 \n",
      " mae: 1603.984832125255 \n",
      " mse: 5498493.490627453 \n",
      " rmse: 2344.8866690370032\n"
     ]
    }
   ],
   "source": [
    "y_pred = rf_tuned.predict(X_test)\n",
    "eval_metrics(y_test, y_pred)"
   ]
  },
  {
   "cell_type": "code",
   "execution_count": 119,
   "metadata": {},
   "outputs": [
    {
     "data": {
      "text/plain": [
       "0.8905909441311387"
      ]
     },
     "execution_count": 119,
     "metadata": {},
     "output_type": "execute_result"
    }
   ],
   "source": [
    "accuraries = cross_val_score(estimator=rf_tuned, X=X_train, y=y_train, cv=10)\n",
    "accuraries.mean()"
   ]
  },
  {
   "cell_type": "code",
   "execution_count": null,
   "metadata": {},
   "outputs": [],
   "source": []
  },
  {
   "cell_type": "markdown",
   "metadata": {},
   "source": [
    "max-depth / features olmadan????"
   ]
  },
  {
   "cell_type": "code",
   "execution_count": 120,
   "metadata": {},
   "outputs": [
    {
     "data": {
      "text/plain": [
       "RandomForestRegressor(bootstrap=True, ccp_alpha=0.0, criterion='mse',\n",
       "                      max_depth=None, max_features=6, max_leaf_nodes=None,\n",
       "                      max_samples=None, min_impurity_decrease=0.0,\n",
       "                      min_impurity_split=None, min_samples_leaf=1,\n",
       "                      min_samples_split=4, min_weight_fraction_leaf=0.0,\n",
       "                      n_estimators=100, n_jobs=None, oob_score=False,\n",
       "                      random_state=None, verbose=0, warm_start=False)"
      ]
     },
     "execution_count": 120,
     "metadata": {},
     "output_type": "execute_result"
    }
   ],
   "source": [
    "rf_tuned_2 = RandomForestRegressor(max_features = 6,\n",
    "                                min_samples_split = 4,\n",
    "                                 n_estimators = 100)\n",
    "rf_tuned_2.fit(X_train, y_train)    # max feature???? cok degistirilmemeli"
   ]
  },
  {
   "cell_type": "code",
   "execution_count": 121,
   "metadata": {},
   "outputs": [
    {
     "name": "stdout",
     "output_type": "stream",
     "text": [
      "r2_score: 0.9056025855450395 \n",
      " mae: 1445.7949863634274 \n",
      " mse: 5085211.838175725 \n",
      " rmse: 2255.041427152886\n"
     ]
    }
   ],
   "source": [
    "y_pred = rf_tuned_2.predict(X_test)\n",
    "eval_metrics(y_test, y_pred)"
   ]
  },
  {
   "cell_type": "code",
   "execution_count": 122,
   "metadata": {},
   "outputs": [
    {
     "data": {
      "text/plain": [
       "0.8909888974308195"
      ]
     },
     "execution_count": 122,
     "metadata": {},
     "output_type": "execute_result"
    }
   ],
   "source": [
    "accuraries = cross_val_score(estimator=rf_tuned, X=X_train, y=y_train, cv=10)\n",
    "accuraries.mean()"
   ]
  },
  {
   "cell_type": "code",
   "execution_count": null,
   "metadata": {},
   "outputs": [],
   "source": []
  },
  {
   "cell_type": "code",
   "execution_count": 123,
   "metadata": {},
   "outputs": [],
   "source": [
    "import pickle \n",
    "pickle.dump(rf_tuned_2, open('rf_tuned_2', 'wb'))"
   ]
  },
  {
   "cell_type": "code",
   "execution_count": 125,
   "metadata": {},
   "outputs": [],
   "source": [
    "my_model = pickle.load(open('rf_tuned_2', 'rb'))"
   ]
  },
  {
   "cell_type": "code",
   "execution_count": null,
   "metadata": {},
   "outputs": [],
   "source": []
  },
  {
   "cell_type": "markdown",
   "metadata": {},
   "source": [
    "**XGBOOST Regressor**"
   ]
  },
  {
   "cell_type": "code",
   "execution_count": 126,
   "metadata": {},
   "outputs": [],
   "source": [
    "# tekrar df'e geri dondu\n",
    "X=df.drop(['price'], axis=1)\n",
    "y=df['price']\n",
    "from sklearn.model_selection import train_test_split\n",
    "X_train, X_test, y_train, y_test = train_test_split(X, y, test_size = 0.2, random_state = 0)"
   ]
  },
  {
   "cell_type": "code",
   "execution_count": 127,
   "metadata": {},
   "outputs": [],
   "source": [
    "import xgboost"
   ]
  },
  {
   "cell_type": "code",
   "execution_count": 128,
   "metadata": {},
   "outputs": [
    {
     "data": {
      "text/plain": [
       "XGBRegressor(base_score=0.5, booster='gbtree', colsample_bylevel=1,\n",
       "             colsample_bynode=1, colsample_bytree=1, gamma=0, gpu_id=-1,\n",
       "             importance_type='gain', interaction_constraints='',\n",
       "             learning_rate=0.300000012, max_delta_step=0, max_depth=6,\n",
       "             min_child_weight=1, missing=nan, monotone_constraints='()',\n",
       "             n_estimators=100, n_jobs=0, num_parallel_tree=1,\n",
       "             objective='reg:squarederror', random_state=0, reg_alpha=0,\n",
       "             reg_lambda=1, scale_pos_weight=1, subsample=1, tree_method='exact',\n",
       "             validate_parameters=1, verbosity=None)"
      ]
     },
     "execution_count": 128,
     "metadata": {},
     "output_type": "execute_result"
    }
   ],
   "source": [
    "model_xg = xgboost.XGBRegressor()\n",
    "model_xg.fit(X_train, y_train)"
   ]
  },
  {
   "cell_type": "code",
   "execution_count": 129,
   "metadata": {},
   "outputs": [],
   "source": [
    "y_pred = model_xg.predict(X_test)"
   ]
  },
  {
   "cell_type": "code",
   "execution_count": 130,
   "metadata": {},
   "outputs": [
    {
     "name": "stdout",
     "output_type": "stream",
     "text": [
      "r2_score: 0.9564463812839813 \n",
      " mae: 927.7647673318671 \n",
      " mse: 2199913.203365489 \n",
      " rmse: 1483.2104379910118\n"
     ]
    }
   ],
   "source": [
    "eval_metrics(y_test, y_pred)"
   ]
  },
  {
   "cell_type": "code",
   "execution_count": null,
   "metadata": {},
   "outputs": [],
   "source": []
  },
  {
   "cell_type": "markdown",
   "metadata": {},
   "source": [
    "**using 4 columns**"
   ]
  },
  {
   "cell_type": "code",
   "execution_count": 131,
   "metadata": {},
   "outputs": [],
   "source": [
    "new_list = ['age', 'model', 'hp', 'km'] "
   ]
  },
  {
   "cell_type": "code",
   "execution_count": 135,
   "metadata": {},
   "outputs": [],
   "source": [
    "X=df2[new_list]\n",
    "y=df2['price']\n",
    "X=pd.get_dummies(X)\n",
    "X_train, X_test, y_train, y_test = train_test_split(X, y, test_size = 0.2, random_state = 42)"
   ]
  },
  {
   "cell_type": "code",
   "execution_count": 136,
   "metadata": {},
   "outputs": [
    {
     "data": {
      "text/plain": [
       "XGBRegressor(base_score=0.5, booster='gbtree', colsample_bylevel=1,\n",
       "             colsample_bynode=1, colsample_bytree=1, gamma=0, gpu_id=-1,\n",
       "             importance_type='gain', interaction_constraints='',\n",
       "             learning_rate=0.300000012, max_delta_step=0, max_depth=6,\n",
       "             min_child_weight=1, missing=nan, monotone_constraints='()',\n",
       "             n_estimators=100, n_jobs=0, num_parallel_tree=1,\n",
       "             objective='reg:squarederror', random_state=0, reg_alpha=0,\n",
       "             reg_lambda=1, scale_pos_weight=1, subsample=1, tree_method='exact',\n",
       "             validate_parameters=1, verbosity=None)"
      ]
     },
     "execution_count": 136,
     "metadata": {},
     "output_type": "execute_result"
    }
   ],
   "source": [
    "model = xgboost.XGBRegressor()\n",
    "model.fit(X_train, y_train)"
   ]
  },
  {
   "cell_type": "code",
   "execution_count": 137,
   "metadata": {},
   "outputs": [
    {
     "name": "stdout",
     "output_type": "stream",
     "text": [
      "r2_score: 0.9154273169161891 \n",
      " mae: 1428.8015562479159 \n",
      " mse: 4555951.152764643 \n",
      " rmse: 2134.4674166556497\n"
     ]
    }
   ],
   "source": [
    "y_pred = model.predict(X_test)\n",
    "eval_metrics(y_test, y_pred)"
   ]
  },
  {
   "cell_type": "code",
   "execution_count": null,
   "metadata": {},
   "outputs": [],
   "source": []
  },
  {
   "cell_type": "markdown",
   "metadata": {},
   "source": [
    "**GridSearch with XGBOOST**"
   ]
  },
  {
   "cell_type": "code",
   "execution_count": 138,
   "metadata": {},
   "outputs": [],
   "source": [
    "xgb_params = {\"n_estimators\": [50, 100, 300],\n",
    "             \"subsample\":[0.5,0.8,1],\n",
    "             \"max_depth\":[3,5,7],\n",
    "             \"learning_rate\":[0.1,0.01,0.3]}"
   ]
  },
  {
   "cell_type": "code",
   "execution_count": 139,
   "metadata": {},
   "outputs": [
    {
     "name": "stdout",
     "output_type": "stream",
     "text": [
      "Fitting 5 folds for each of 81 candidates, totalling 405 fits\n"
     ]
    },
    {
     "name": "stderr",
     "output_type": "stream",
     "text": [
      "[Parallel(n_jobs=-1)]: Using backend LokyBackend with 12 concurrent workers.\n",
      "[Parallel(n_jobs=-1)]: Done  17 tasks      | elapsed:   11.5s\n",
      "[Parallel(n_jobs=-1)]: Done 138 tasks      | elapsed:   37.2s\n",
      "[Parallel(n_jobs=-1)]: Done 341 tasks      | elapsed:  1.1min\n",
      "[Parallel(n_jobs=-1)]: Done 405 out of 405 | elapsed:  1.4min finished\n"
     ]
    }
   ],
   "source": [
    "from sklearn.model_selection import GridSearchCV\n",
    "xgb_cv_model  = GridSearchCV(model,xgb_params, cv = 5, n_jobs = -1, verbose = 2).fit(X_train, y_train)"
   ]
  },
  {
   "cell_type": "code",
   "execution_count": 142,
   "metadata": {},
   "outputs": [
    {
     "data": {
      "text/plain": [
       "{'learning_rate': 0.1, 'max_depth': 7, 'n_estimators': 100, 'subsample': 1}"
      ]
     },
     "execution_count": 142,
     "metadata": {},
     "output_type": "execute_result"
    }
   ],
   "source": [
    "xgb_cv_model.best_params_"
   ]
  },
  {
   "cell_type": "code",
   "execution_count": 143,
   "metadata": {},
   "outputs": [],
   "source": [
    "xgb_tuned = xgboost.XGBRegressor(subsample = 1, \n",
    "                         learning_rate = 0.1, \n",
    "                         max_depth = 7, \n",
    "                         n_estimators = 100).fit(X_train, y_train)"
   ]
  },
  {
   "cell_type": "code",
   "execution_count": 144,
   "metadata": {},
   "outputs": [
    {
     "name": "stdout",
     "output_type": "stream",
     "text": [
      "r2_score: 0.9161708348854484 \n",
      " mae: 1428.496445755356 \n",
      " mse: 4515897.657645055 \n",
      " rmse: 2125.0641537716115\n"
     ]
    }
   ],
   "source": [
    "y_pred = xgb_tuned.predict(X_test)\n",
    "eval_metrics(y_test,y_pred)"
   ]
  },
  {
   "cell_type": "code",
   "execution_count": null,
   "metadata": {},
   "outputs": [],
   "source": []
  }
 ],
 "metadata": {
  "kernelspec": {
   "display_name": "Python 3",
   "language": "python",
   "name": "python3"
  },
  "language_info": {
   "codemirror_mode": {
    "name": "ipython",
    "version": 3
   },
   "file_extension": ".py",
   "mimetype": "text/x-python",
   "name": "python",
   "nbconvert_exporter": "python",
   "pygments_lexer": "ipython3",
   "version": "3.7.6"
  }
 },
 "nbformat": 4,
 "nbformat_minor": 4
}
